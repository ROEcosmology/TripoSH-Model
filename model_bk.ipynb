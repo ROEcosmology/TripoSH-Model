{
 "cells": [
  {
   "cell_type": "code",
   "execution_count": 1,
   "id": "17b02f22",
   "metadata": {
    "tags": []
   },
   "outputs": [],
   "source": [
    "from classy import Class\n",
    "import numpy as np\n",
    "from powerbispectrum import ComputePowerBiSpectrum\n",
    "from matplotlib import pyplot as plt\n",
    "import matplotlib.cm as cm\n",
    "plt.rcParams['text.usetex'] = False\n",
    "plt.rcParams['figure.figsize'] = [15, 10]"
   ]
  },
  {
   "cell_type": "code",
   "execution_count": 2,
   "id": "9cd5179e",
   "metadata": {
    "tags": []
   },
   "outputs": [],
   "source": [
    "h_fid = .6736\n",
    "omega_b_fid = .02237\n",
    "omega_cdm_fid = .12\n",
    "n_s_fid = .9649\n",
    "A_s_fid = 2.083e-9\n",
    "\n",
    "params_cosmo = {\n",
    "            'output': 'mPk',\n",
    "            'h': h_fid,\n",
    "            'omega_b': omega_b_fid,\n",
    "            'omega_cdm': omega_cdm_fid,\n",
    "            'n_s': n_s_fid,\n",
    "            'A_s': A_s_fid,\n",
    "            'tau_reio': 0.0544,\n",
    "            'N_ncdm': 1.,\n",
    "            'm_ncdm': 0.06,\n",
    "            'N_ur': 2.0328,\n",
    "            'z_max_pk': 3.,\n",
    "            'P_k_max_h/Mpc': 50.,\n",
    "            }\n",
    "z = .8"
   ]
  },
  {
   "cell_type": "code",
   "execution_count": 3,
   "id": "8df5b73a",
   "metadata": {
    "tags": []
   },
   "outputs": [],
   "source": [
    "bk_meas000_real = np.loadtxt('/home/rneveux/Mike_bk/bk000_real.dat')\n",
    "bk_meas000_rsd = np.loadtxt('/home/rneveux/Mike_bk/bk000_rsd.dat')\n",
    "bk_meas110_real = np.loadtxt('/home/rneveux/Mike_bk/bk110_real.dat')\n",
    "bk_meas110_rsd = np.loadtxt('/home/rneveux/Mike_bk/bk110_rsd.dat')\n",
    "bk_meas220_real = np.loadtxt('/home/rneveux/Mike_bk/bk220_real.dat')\n",
    "bk_meas220_rsd = np.loadtxt('/home/rneveux/Mike_bk/bk220_rsd.dat')\n",
    "bk_meas202_rsd = np.loadtxt('/home/rneveux/Mike_bk/bk202_rsd.dat')\n",
    "bk_meas112_rsd = np.loadtxt('/home/rneveux/Mike_bk/bk112_rsd.dat')"
   ]
  },
  {
   "cell_type": "code",
   "execution_count": 4,
   "id": "49c5b617",
   "metadata": {
    "tags": []
   },
   "outputs": [],
   "source": [
    "kbin = np.arange(.01, .15, .01)"
   ]
  },
  {
   "cell_type": "code",
   "execution_count": 5,
   "id": "75d8c085",
   "metadata": {
    "tags": []
   },
   "outputs": [
    {
     "data": {
      "text/plain": [
       "array([0.01, 0.02, 0.03, 0.04, 0.05, 0.06, 0.07, 0.08, 0.09, 0.1 , 0.11,\n",
       "       0.12, 0.13, 0.14])"
      ]
     },
     "execution_count": 5,
     "metadata": {},
     "output_type": "execute_result"
    }
   ],
   "source": [
    "kbin"
   ]
  },
  {
   "cell_type": "code",
   "execution_count": 6,
   "id": "377578ba",
   "metadata": {
    "tags": []
   },
   "outputs": [
    {
     "name": "stdout",
     "output_type": "stream",
     "text": [
      "CPU times: user 26.5 s, sys: 233 ms, total: 26.7 s\n",
      "Wall time: 5.6 s\n"
     ]
    }
   ],
   "source": [
    "%%time\n",
    "cl = ComputePowerBiSpectrum(params_cosmo, z, diag=True)\n",
    "cl.initial_power_spectrum(real=False)"
   ]
  },
  {
   "cell_type": "code",
   "execution_count": 7,
   "id": "3bfff9f6",
   "metadata": {
    "tags": []
   },
   "outputs": [
    {
     "name": "stdout",
     "output_type": "stream",
     "text": [
      "{'output': 'mPk', 'h': 0.6736, 'omega_b': 0.02237, 'omega_cdm': 0.12, 'n_s': 0.9649, 'A_s': 2.083e-09, 'tau_reio': 0.0544, 'N_ncdm': 1.0, 'm_ncdm': 0.06, 'N_ur': 2.0328, 'z_max_pk': 3.0, 'P_k_max_h/Mpc': 50.0, 'z_pk': 0.8, 'non linear': 'PT', 'IR resummation': 'Yes', 'Bias tracers': 'Yes', 'cb': 'Yes', 'RSD': 'Yes', 'AP': 'No', 'PNG': 'No'}\n",
      "CPU times: user 2.01 s, sys: 35.9 ms, total: 2.05 s\n",
      "Wall time: 2.02 s\n"
     ]
    }
   ],
   "source": [
    "%%time\n",
    "ell1 = 0\n",
    "ell2 = 0\n",
    "ELL = 0\n",
    "cl.calc_B_diag(\n",
    "        kbin, ell1, ell2, ELL,\n",
    "        alpha_perp=1, alpha_parallel=1, b1=2.1, b2=1, bG2=1, c1=1, c2=1, knl=.3,\n",
    "        Pshot=0, Bshot=0, fnlloc=1, fnlequi=1, fnlortho=1,\n",
    "        integrand='PNG',\n",
    "        ks=.05,\n",
    "    )"
   ]
  },
  {
   "cell_type": "code",
   "execution_count": 8,
   "id": "9a884809",
   "metadata": {},
   "outputs": [
    {
     "data": {
      "text/plain": [
       "{'kbin': array([0.01, 0.02, 0.03, 0.04, 0.05, 0.06, 0.07, 0.08, 0.09, 0.1 , 0.11,\n",
       "        0.12, 0.13, 0.14]),\n",
       " 'K': array([13028509.53547387,  5573104.83622577,  2368387.26542073,\n",
       "         1105002.43975835,   609585.57687663,   380938.78242401,\n",
       "          249413.35278203,   162500.26365999,   104573.1355899 ,\n",
       "           69177.79967772,    49013.98322755,    36854.99207404,\n",
       "           28156.09810277,    21160.10972659]),\n",
       " 'ell1': 0,\n",
       " 'ell2': 0,\n",
       " 'ELL': 0}"
      ]
     },
     "execution_count": 8,
     "metadata": {},
     "output_type": "execute_result"
    }
   ],
   "source": [
    "cl.BK"
   ]
  },
  {
   "cell_type": "code",
   "execution_count": 9,
   "id": "c5f24791",
   "metadata": {},
   "outputs": [
    {
     "data": {
      "text/plain": [
       "{'output': 'mPk',\n",
       " 'h': 0.6736,\n",
       " 'omega_b': 0.02237,\n",
       " 'omega_cdm': 0.12,\n",
       " 'n_s': 0.9649,\n",
       " 'A_s': 2.083e-09,\n",
       " 'tau_reio': 0.0544,\n",
       " 'N_ncdm': 1.0,\n",
       " 'm_ncdm': 0.06,\n",
       " 'N_ur': 2.0328,\n",
       " 'z_max_pk': 3.0,\n",
       " 'P_k_max_h/Mpc': 50.0,\n",
       " 'z_pk': 0.8,\n",
       " 'non linear': 'PT',\n",
       " 'IR resummation': 'Yes',\n",
       " 'Bias tracers': 'Yes',\n",
       " 'cb': 'Yes',\n",
       " 'RSD': 'Yes',\n",
       " 'AP': 'No',\n",
       " 'PNG': 'No'}"
      ]
     },
     "execution_count": 9,
     "metadata": {},
     "output_type": "execute_result"
    }
   ],
   "source": [
    "cl.params_cosmo"
   ]
  },
  {
   "cell_type": "code",
   "execution_count": 10,
   "id": "4478a816",
   "metadata": {},
   "outputs": [
    {
     "ename": "KeyError",
     "evalue": "'kbin1'",
     "output_type": "error",
     "traceback": [
      "\u001b[0;31m---------------------------------------------------------------------------\u001b[0m",
      "\u001b[0;31mKeyError\u001b[0m                                  Traceback (most recent call last)",
      "Cell \u001b[0;32mIn[10], line 1\u001b[0m\n\u001b[0;32m----> 1\u001b[0m plt\u001b[38;5;241m.\u001b[39mplot(np\u001b[38;5;241m.\u001b[39mdiag(\u001b[43mcl\u001b[49m\u001b[38;5;241;43m.\u001b[39;49m\u001b[43mBK\u001b[49m\u001b[43m[\u001b[49m\u001b[38;5;124;43m'\u001b[39;49m\u001b[38;5;124;43mkbin1\u001b[39;49m\u001b[38;5;124;43m'\u001b[39;49m\u001b[43m]\u001b[49m),np\u001b[38;5;241m.\u001b[39mdiag(cl\u001b[38;5;241m.\u001b[39mBK[\u001b[38;5;124m'\u001b[39m\u001b[38;5;124mkbin1\u001b[39m\u001b[38;5;124m'\u001b[39m])\u001b[38;5;241m*\u001b[39m\u001b[38;5;241m*\u001b[39m\u001b[38;5;241m2\u001b[39m\u001b[38;5;241m*\u001b[39mnp\u001b[38;5;241m.\u001b[39mdiag(cl\u001b[38;5;241m.\u001b[39mBK[\u001b[38;5;124m'\u001b[39m\u001b[38;5;124mK\u001b[39m\u001b[38;5;124m'\u001b[39m]),color\u001b[38;5;241m=\u001b[39m\u001b[38;5;124m'\u001b[39m\u001b[38;5;124mk\u001b[39m\u001b[38;5;124m'\u001b[39m,label\u001b[38;5;241m=\u001b[39m\u001b[38;5;124mr\u001b[39m\u001b[38;5;124m'\u001b[39m\u001b[38;5;124m$k_1=k_2$\u001b[39m\u001b[38;5;124m'\u001b[39m)\n\u001b[1;32m      2\u001b[0m \u001b[38;5;28;01mfor\u001b[39;00m i \u001b[38;5;129;01min\u001b[39;00m \u001b[38;5;28mrange\u001b[39m(\u001b[38;5;241m9\u001b[39m):\n\u001b[1;32m      3\u001b[0m     plt\u001b[38;5;241m.\u001b[39mplot(np\u001b[38;5;241m.\u001b[39mdiag(cl\u001b[38;5;241m.\u001b[39mBK[\u001b[38;5;124m'\u001b[39m\u001b[38;5;124mkbin1\u001b[39m\u001b[38;5;124m'\u001b[39m]),np\u001b[38;5;241m.\u001b[39mdiag(cl\u001b[38;5;241m.\u001b[39mBK[\u001b[38;5;124m'\u001b[39m\u001b[38;5;124mkbin1\u001b[39m\u001b[38;5;124m'\u001b[39m])\u001b[38;5;241m*\u001b[39m\u001b[38;5;241m*\u001b[39m\u001b[38;5;241m2\u001b[39m\u001b[38;5;241m*\u001b[39mcl\u001b[38;5;241m.\u001b[39mBK[\u001b[38;5;124m'\u001b[39m\u001b[38;5;124mK\u001b[39m\u001b[38;5;124m'\u001b[39m][i\u001b[38;5;241m+\u001b[39m\u001b[38;5;241m1\u001b[39m],color\u001b[38;5;241m=\u001b[39mcm\u001b[38;5;241m.\u001b[39mcool(i\u001b[38;5;241m/\u001b[39m\u001b[38;5;241m10\u001b[39m))\n",
      "\u001b[0;31mKeyError\u001b[0m: 'kbin1'"
     ]
    }
   ],
   "source": [
    "plt.plot(np.diag(cl.BK['kbin1']),np.diag(cl.BK['kbin1'])**2*np.diag(cl.BK['K']),color='k',label=r'$k_1=k_2$')\n",
    "for i in range(9):\n",
    "    plt.plot(np.diag(cl.BK['kbin1']),np.diag(cl.BK['kbin1'])**2*cl.BK['K'][i+1],color=cm.cool(i/10))\n",
    "plt.ylabel(r'$k^2_2B_{000}(k_1,k_2)$',fontsize=20)\n",
    "plt.xlabel(r'$k^2$',fontsize=20)\n",
    "plt.legend(fontsize=20)\n",
    "plt.xticks(fontsize=15)\n",
    "plt.yticks(fontsize=15)"
   ]
  },
  {
   "cell_type": "code",
   "execution_count": null,
   "id": "1c94b2d6",
   "metadata": {},
   "outputs": [],
   "source": [
    "plt.plot(kbin,kbin**2*b000,color='k',label=r'$B_{000}$')\n",
    "plt.plot(kbin,kbin**2*b110,color='r',label=r'$B_{110}$')\n",
    "plt.plot(kbin,kbin**2*b220,color='g',label=r'$B_{220}$')\n",
    "plt.errorbar(bk_meas000_rsd[:,0],bk_meas000_rsd[:,0]**2*bk_meas000_rsd[:,1],bk_meas000_rsd[:,0]**2*bk_meas000_rsd[:,2],color='grey',label='Bk from Abacus LRG')\n",
    "plt.errorbar(bk_meas110_rsd[:,0],bk_meas110_rsd[:,0]**2*bk_meas110_rsd[:,1],bk_meas110_rsd[:,0]**2*bk_meas110_rsd[:,2],color='grey')\n",
    "plt.errorbar(bk_meas220_rsd[:,0],bk_meas220_rsd[:,0]**2*bk_meas220_rsd[:,1],bk_meas220_rsd[:,0]**2*bk_meas220_rsd[:,2],color='grey')\n",
    "plt.ylabel(r'$k^2B_{\\ell_1\\ell_20}(k,k)$',fontsize=20)\n",
    "plt.xlabel(r'$k^2$',fontsize=20)\n",
    "plt.legend(fontsize=20)\n",
    "plt.xticks(fontsize=15)\n",
    "plt.yticks(fontsize=15)"
   ]
  },
  {
   "cell_type": "code",
   "execution_count": null,
   "id": "8a71cec3",
   "metadata": {},
   "outputs": [],
   "source": [
    "plt.plot(kbin,kbin**2*b000,color='k',label=r'$B_{000}$')\n",
    "plt.plot(kbin,kbin**2*b202,color='r',label=r'$B_{202}$')\n",
    "plt.plot(kbin,kbin**2*b404,color='g',label=r'$B_{404}$')\n",
    "plt.errorbar(bk_meas000_rsd[:,0],bk_meas000_rsd[:,0]**2*bk_meas000_rsd[:,1],bk_meas000_rsd[:,0]**2*bk_meas000_rsd[:,2],color='grey',label='Bk from Abacus LRG')\n",
    "plt.errorbar(bk_meas202_rsd[:,0],bk_meas202_rsd[:,0]**2*bk_meas202_rsd[:,1],bk_meas202_rsd[:,0]**2*bk_meas202_rsd[:,2],color='grey')\n",
    "plt.ylabel(r'$k^2B_{\\ell_1\\ell_20}(k,k)$',fontsize=20)\n",
    "plt.xlabel(r'$k^2$',fontsize=20)\n",
    "plt.legend(fontsize=20)\n",
    "plt.xticks(fontsize=15)\n",
    "plt.yticks(fontsize=15)"
   ]
  },
  {
   "cell_type": "code",
   "execution_count": null,
   "id": "1feb9a9a",
   "metadata": {},
   "outputs": [],
   "source": [
    "plt.plot(np.diag(cl.BK['kbin1']),np.diag(cl.BK['kbin1'])**2*np.diag(cl.BK['K']))\n",
    "plt.errorbar(bk_meas110_real[:,0],bk_meas110_real[:,0]**2*bk_meas110_real[:,1],bk_meas110_real[:,0]**2*bk_meas110_real[:,2])"
   ]
  },
  {
   "cell_type": "code",
   "execution_count": null,
   "id": "c46b0f83",
   "metadata": {},
   "outputs": [],
   "source": [
    "ell1 = 2\n",
    "ell2 = 2\n",
    "ELL = 0\n",
    "cl.calc_B(\n",
    "        kbin, ell1, ell2, ELL,\n",
    "        alpha_perp=1, alpha_parallel=1, b1=2.2, b2=-.6, bG2=-.3, c1=0, c2=0, knl=.3,\n",
    "        Pshot=0, Bshot=0,\n",
    "        integrand='tree',\n",
    "        ks=.05,\n",
    "    )"
   ]
  },
  {
   "cell_type": "code",
   "execution_count": null,
   "id": "4e072ff3",
   "metadata": {},
   "outputs": [],
   "source": [
    "plt.plot(np.diag(cl.BK['kbin1']),np.diag(cl.BK['kbin1'])**2*np.diag(cl.BK['K']))\n",
    "plt.errorbar(bk_meas220_real[:,0],bk_meas220_real[:,0]**2*bk_meas220_real[:,1],bk_meas220_real[:,0]**2*bk_meas220_real[:,2])"
   ]
  },
  {
   "cell_type": "code",
   "execution_count": null,
   "id": "df42d4a9",
   "metadata": {},
   "outputs": [],
   "source": [
    "cl_rsd = ComputePowerBiSpectrum(params_cosmo, z)\n",
    "cl_rsd.initial_power_spectrum()"
   ]
  },
  {
   "cell_type": "code",
   "execution_count": null,
   "id": "2483d5f8",
   "metadata": {},
   "outputs": [],
   "source": [
    "ell1 = 0\n",
    "ell2 = 0\n",
    "ELL = 0\n",
    "cl_rsd.calc_B(\n",
    "        kbin, ell1, ell2, ELL,\n",
    "        alpha_perp=1, alpha_parallel=1, b1=2.2, b2=-.6, bG2=-.3, c1=0, c2=0, knl=.3,\n",
    "        Pshot=0, Bshot=0,\n",
    "        integrand='tree',\n",
    "        ks=.05,\n",
    "    )"
   ]
  },
  {
   "cell_type": "code",
   "execution_count": null,
   "id": "158d3c75",
   "metadata": {},
   "outputs": [],
   "source": [
    "plt.plot(np.diag(cl_rsd.BK['kbin1']),np.diag(cl_rsd.BK['kbin1'])**2*np.diag(cl_rsd.BK['K']))\n",
    "plt.errorbar(bk_meas000_rsd[:,0],bk_meas000_rsd[:,0]**2*bk_meas000_rsd[:,1],bk_meas000_rsd[:,0]**2*bk_meas000_rsd[:,2])"
   ]
  },
  {
   "cell_type": "code",
   "execution_count": null,
   "id": "8f390b16",
   "metadata": {},
   "outputs": [],
   "source": [
    "ell1 = 1\n",
    "ell2 = 1\n",
    "ELL = 0\n",
    "cl_rsd.calc_B(\n",
    "        kbin, ell1, ell2, ELL,\n",
    "        alpha_perp=1, alpha_parallel=1, b1=2.2, b2=-.6, bG2=-.3, c1=0, c2=0, knl=.3,\n",
    "        Pshot=0, Bshot=0,\n",
    "        integrand='tree',\n",
    "        ks=.05,\n",
    "    )"
   ]
  },
  {
   "cell_type": "code",
   "execution_count": null,
   "id": "87fb272b",
   "metadata": {},
   "outputs": [],
   "source": [
    "plt.plot(np.diag(cl_rsd.BK['kbin1']),np.diag(cl_rsd.BK['kbin1'])**2*np.diag(cl_rsd.BK['K']))\n",
    "plt.errorbar(bk_meas110_rsd[:,0],bk_meas110_rsd[:,0]**2*bk_meas110_rsd[:,1],bk_meas110_rsd[:,0]**2*bk_meas110_rsd[:,2])"
   ]
  },
  {
   "cell_type": "code",
   "execution_count": null,
   "id": "4c0a46f6",
   "metadata": {},
   "outputs": [],
   "source": [
    "ell1 = 2\n",
    "ell2 = 2\n",
    "ELL = 0\n",
    "cl_rsd.calc_B(\n",
    "        kbin, ell1, ell2, ELL,\n",
    "        alpha_perp=1, alpha_parallel=1, b1=2.2, b2=-.6, bG2=-.3, c1=0, c2=0, knl=.3,\n",
    "        Pshot=0, Bshot=0,\n",
    "        integrand='tree',\n",
    "        ks=.05,\n",
    "    )"
   ]
  },
  {
   "cell_type": "code",
   "execution_count": null,
   "id": "c1a5bd8e",
   "metadata": {},
   "outputs": [],
   "source": [
    "plt.plot(np.diag(cl_rsd.BK['kbin1']),np.diag(cl_rsd.BK['kbin1'])**2*np.diag(cl_rsd.BK['K']))\n",
    "plt.errorbar(bk_meas220_rsd[:,0],bk_meas220_rsd[:,0]**2*bk_meas220_rsd[:,1],bk_meas220_rsd[:,0]**2*bk_meas220_rsd[:,2])"
   ]
  },
  {
   "cell_type": "code",
   "execution_count": null,
   "id": "54548f88",
   "metadata": {},
   "outputs": [],
   "source": [
    "ell1 = 2\n",
    "ell2 = 0\n",
    "ELL = 2\n",
    "cl_rsd.calc_B(\n",
    "        kbin, ell1, ell2, ELL,\n",
    "        alpha_perp=1, alpha_parallel=1, b1=2.2, b2=-.6, bG2=-.3, c1=0, c2=0, knl=.3,\n",
    "        Pshot=0, Bshot=0,\n",
    "        integrand='tree',\n",
    "        ks=.05,\n",
    "    )"
   ]
  },
  {
   "cell_type": "code",
   "execution_count": null,
   "id": "85285755",
   "metadata": {},
   "outputs": [],
   "source": [
    "plt.plot(np.diag(cl_rsd.BK['kbin1']),np.diag(cl_rsd.BK['kbin1'])**2*np.diag(cl_rsd.BK['K']))\n",
    "plt.errorbar(bk_meas202_rsd[:,0],bk_meas202_rsd[:,0]**2*bk_meas202_rsd[:,1],bk_meas202_rsd[:,0]**2*bk_meas202_rsd[:,2])"
   ]
  },
  {
   "cell_type": "code",
   "execution_count": null,
   "id": "4379f8e9",
   "metadata": {},
   "outputs": [],
   "source": [
    "ell1 = 1\n",
    "ell2 = 1\n",
    "ELL = 2\n",
    "cl_rsd.calc_B(\n",
    "        kbin, ell1, ell2, ELL,\n",
    "        alpha_perp=1, alpha_parallel=1, b1=2.2, b2=-.6, bG2=-.3, c1=0, c2=0, knl=.3,\n",
    "        Pshot=0, Bshot=0,\n",
    "        integrand='tree',\n",
    "        ks=.05,\n",
    "    )"
   ]
  },
  {
   "cell_type": "code",
   "execution_count": null,
   "id": "53a8448c",
   "metadata": {},
   "outputs": [],
   "source": [
    "plt.plot(np.diag(cl_rsd.BK['kbin1']),np.diag(cl_rsd.BK['kbin1'])**2*np.diag(cl_rsd.BK['K']))\n",
    "plt.errorbar(bk_meas112_rsd[:,0],bk_meas112_rsd[:,0]**2*bk_meas112_rsd[:,1],bk_meas112_rsd[:,0]**2*bk_meas112_rsd[:,2])"
   ]
  },
  {
   "cell_type": "code",
   "execution_count": null,
   "id": "59d16455",
   "metadata": {},
   "outputs": [],
   "source": [
    "bk_meas000_rsd"
   ]
  },
  {
   "cell_type": "code",
   "execution_count": null,
   "id": "1062488d",
   "metadata": {},
   "outputs": [],
   "source": [
    "np.arange(.01,.21,.01)"
   ]
  },
  {
   "cell_type": "code",
   "execution_count": null,
   "id": "008eb8a1",
   "metadata": {},
   "outputs": [],
   "source": [
    "np.__version__"
   ]
  },
  {
   "cell_type": "code",
   "execution_count": null,
   "id": "8e2dc4c1",
   "metadata": {},
   "outputs": [],
   "source": [
    "import sys\n",
    "print(sys.executable)\n",
    "print(sys.version)\n",
    "print(sys.version_info)"
   ]
  },
  {
   "cell_type": "code",
   "execution_count": null,
   "id": "c04f3db5",
   "metadata": {},
   "outputs": [],
   "source": []
  }
 ],
 "metadata": {
  "kernelspec": {
   "display_name": "Python (cpt)",
   "language": "python",
   "name": "cpt"
  },
  "language_info": {
   "codemirror_mode": {
    "name": "ipython",
    "version": 3
   },
   "file_extension": ".py",
   "mimetype": "text/x-python",
   "name": "python",
   "nbconvert_exporter": "python",
   "pygments_lexer": "ipython3",
   "version": "3.9.13"
  }
 },
 "nbformat": 4,
 "nbformat_minor": 5
}
