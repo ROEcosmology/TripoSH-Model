{
 "cells": [
  {
   "cell_type": "code",
   "execution_count": 1,
   "id": "4d75ea87",
   "metadata": {},
   "outputs": [
    {
     "data": {
      "text/plain": [
       "'/home/rneveux/bispectrum/theory/powerbispectrum.py'"
      ]
     },
     "execution_count": 1,
     "metadata": {},
     "output_type": "execute_result"
    }
   ],
   "source": [
    "from powerbispectrum import ComputePowerBiSpectrum\n",
    "import powerbispectrum\n",
    "import numpy as np\n",
    "from matplotlib import pyplot as plt\n",
    "powerbispectrum.__file__"
   ]
  },
  {
   "cell_type": "code",
   "execution_count": 2,
   "id": "348cfe27",
   "metadata": {},
   "outputs": [],
   "source": [
    "params_cosmo = {# fixed LambdaCDM parameters\n",
    "                   'A_s':2.089e-9,\n",
    "                   'n_s':0.9649,\n",
    "                   'tau_reio':0.052,\n",
    "                   'omega_b':0.02237,\n",
    "                   'omega_cdm':0.12,\n",
    "                   'h':0.6736,\n",
    "                   'YHe':0.2425,\n",
    "#                     'N_eff':3.046,\n",
    "                    'N_ur':2.0328,\n",
    "                    'N_ncdm':1,\n",
    "                    'm_ncdm':0.06,\n",
    "                   # other output and precision parameters\n",
    "                    'output': 'tCl mPk','z_max_pk': 3.,\n",
    "                    'P_k_max_h/Mpc': 100.,}"
   ]
  },
  {
   "cell_type": "code",
   "execution_count": 3,
   "id": "dc6aae4f",
   "metadata": {},
   "outputs": [],
   "source": [
    "c=ComputePowerBiSpectrum(params_cosmo,.8)"
   ]
  },
  {
   "cell_type": "code",
   "execution_count": 5,
   "id": "b33b98b6",
   "metadata": {},
   "outputs": [],
   "source": [
    "c.initial_power_spectrum()"
   ]
  },
  {
   "cell_type": "code",
   "execution_count": 6,
   "id": "f024fd8b",
   "metadata": {},
   "outputs": [],
   "source": [
    "klin = np.linspace(.01,.3,30)"
   ]
  },
  {
   "cell_type": "code",
   "execution_count": 7,
   "id": "242d030a-645a-4ced-8e7f-b775d75d82eb",
   "metadata": {},
   "outputs": [],
   "source": [
    "b1 = 2.0\n",
    "b2 = -1\n",
    "bG2 = .1\n",
    "bGamma3 = -.1\n",
    "Pshot = 5e3 # in units [Mpc/h]^3\n",
    "c0 = 5. # in units [Mpc/h]^2\n",
    "c1 = 15. # in units [Mpc/h]^2\n",
    "c2 = -5. # in units [Mpc/h]^2\n",
    "ch = 100 # in units [Mpc/h]^4"
   ]
  },
  {
   "cell_type": "code",
   "execution_count": 8,
   "id": "8352d11f",
   "metadata": {},
   "outputs": [],
   "source": [
    "c.calc_P(\n",
    "            klin, 0,\n",
    "            alpha_perp=1, alpha_parallel=1, b1=b1, b2=b2, bG2=bG2, bGamma3=bGamma3,\n",
    "            c0=c0, c1=c1, c2=c2, ch=ch, knl=.3,\n",
    "            integrand='tree',\n",
    "            ks=.05\n",
    "        )\n",
    "pk_lin = c.PK['K']\n",
    "c.calc_P(\n",
    "            klin, 0,\n",
    "            alpha_perp=1, alpha_parallel=1, b1=b1, b2=b2, bG2=bG2, bGamma3=bGamma3,\n",
    "            c0=c0, c1=c1, c2=c2, ch=ch, knl=.3,\n",
    "            integrand='tree_for_1loop',\n",
    "            ks=.05\n",
    "        )\n",
    "pk_lin_for_1loop = c.PK['K']"
   ]
  },
  {
   "cell_type": "code",
   "execution_count": 11,
   "id": "fddcaa25-1e28-4d26-81f6-7e9a9a35030e",
   "metadata": {
    "tags": []
   },
   "outputs": [],
   "source": [
    "c.calc_P(\n",
    "            klin, 0,\n",
    "            alpha_perp=1, alpha_parallel=1, b1=b1, b2=b2, bG2=bG2, bGamma3=bGamma3,\n",
    "            c0=c0, c1=c1, c2=c2, ch=ch, knl=.3,\n",
    "            integrand='counterterm',\n",
    "            ks=.05\n",
    "        )\n",
    "pk_ct = c.PK['K']"
   ]
  },
  {
   "cell_type": "code",
   "execution_count": 12,
   "id": "12fc9543-7ab2-490c-a8af-c339f83407f0",
   "metadata": {
    "tags": []
   },
   "outputs": [],
   "source": [
    "c.calc_P(\n",
    "            klin, 0,\n",
    "            alpha_perp=1, alpha_parallel=1, b1=b1, b2=b2, bG2=bG2, bGamma3=bGamma3,\n",
    "            c0=c0, c1=c1, c2=c2, ch=ch, knl=.3,\n",
    "            integrand='1loop',\n",
    "            ks=.05\n",
    "        )\n",
    "pk_1loop = c.PK['K']"
   ]
  },
  {
   "cell_type": "code",
   "execution_count": 15,
   "id": "80dd66fb-d505-403b-91af-44821dac8321",
   "metadata": {
    "tags": []
   },
   "outputs": [
    {
     "data": {
      "image/png": "[encoded data removed]",
      "text/plain": [
       "<Figure size 640x480 with 1 Axes>"
      ]
     },
     "metadata": {},
     "output_type": "display_data"
    }
   ],
   "source": [
    "plt.plot(klin, klin*pk_lin)\n",
    "plt.plot(klin, klin*pk_lin_for_1loop)\n",
    "plt.plot(klin, klin*pk_ct)\n",
    "plt.plot(klin, -klin*pk_1loop)\n",
    "plt.yscale('log')"
   ]
  },
  {
   "cell_type": "code",
   "execution_count": null,
   "id": "ca7d0da2",
   "metadata": {},
   "outputs": [],
   "source": []
  }
 ],
 "metadata": {
  "kernelspec": {
   "display_name": "Python 3 (ipykernel)",
   "language": "python",
   "name": "python3"
  },
  "language_info": {
   "codemirror_mode": {
    "name": "ipython",
    "version": 3
   },
   "file_extension": ".py",
   "mimetype": "text/x-python",
   "name": "python",
   "nbconvert_exporter": "python",
   "pygments_lexer": "ipython3",
   "version": "3.9.13"
  }
 },
 "nbformat": 4,
 "nbformat_minor": 5
}
