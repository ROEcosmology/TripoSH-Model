{
 "cells": [
  {
   "cell_type": "code",
   "execution_count": 1,
   "id": "f2d8199c",
   "metadata": {},
   "outputs": [],
   "source": [
    "from classy import Class\n",
    "import numpy as np\n",
    "from powerbispectrum import ComputePowerBiSpectrum\n",
    "from matplotlib import pyplot as plt\n",
    "import matplotlib.cm as cm\n",
    "plt.rcParams['figure.figsize'] = [15, 10]"
   ]
  },
  {
   "cell_type": "code",
   "execution_count": 2,
   "id": "809c5b8a",
   "metadata": {},
   "outputs": [],
   "source": [
    "h_fid = .6736\n",
    "omega_b_fid = .02237\n",
    "omega_cdm_fid = .12\n",
    "n_s_fid = .9649\n",
    "A_s_fid = 2.083e-9\n",
    "\n",
    "params_cosmo = {\n",
    "            'output': 'mPk',\n",
    "            'h': h_fid,\n",
    "            'omega_b': omega_b_fid,\n",
    "            'omega_cdm': omega_cdm_fid,\n",
    "            'n_s': n_s_fid,\n",
    "            'A_s': A_s_fid,\n",
    "            'tau_reio': 0.0544,\n",
    "            'N_ncdm': 1.,\n",
    "            'm_ncdm': 0.06,\n",
    "            'N_ur': 2.0328,\n",
    "            'z_max_pk': 3.,\n",
    "            'P_k_max_h/Mpc': 50.,\n",
    "            }\n",
    "z = .8"
   ]
  },
  {
   "cell_type": "code",
   "execution_count": 13,
   "id": "dcdfb980",
   "metadata": {},
   "outputs": [],
   "source": [
    "k = np.arange(.01, .21, .05)"
   ]
  },
  {
   "cell_type": "code",
   "execution_count": null,
   "id": "7773fb0e",
   "metadata": {},
   "outputs": [],
   "source": [
    "cl = ComputePowerBiSpectrum(params_cosmo, z, diag=True)\n",
    "cl.initial_power_spectrum()"
   ]
  },
  {
   "cell_type": "code",
   "execution_count": null,
   "id": "4d7f2f77",
   "metadata": {},
   "outputs": [],
   "source": [
    "ell1 = 0\n",
    "ell2 = 0\n",
    "ELL = 0\n",
    "cl.calc_B_diag(\n",
    "        k, ell1, ell2, ELL,\n",
    "        alpha_perp=1, alpha_parallel=1, b1=2.1, b2=1, bG2=1, c1=1, c2=1, knl=.3,\n",
    "        Pshot=5000, Bshot=5000,\n",
    "        integrand='tree',\n",
    "        ks=.05,\n",
    "    )\n",
    "tree = cl.BK\n",
    "cl.calc_B_diag(\n",
    "        k, ell1, ell2, ELL,\n",
    "        alpha_perp=1, alpha_parallel=1, b1=2.1, b2=1, bG2=1, c1=1, c2=1, knl=.3,\n",
    "        Pshot=5000, Bshot=5000,\n",
    "        integrand='SN',\n",
    "        ks=.05,\n",
    "    )\n",
    "SN = cl.BK"
   ]
  },
  {
   "cell_type": "code",
   "execution_count": null,
   "id": "66036ce8",
   "metadata": {},
   "outputs": [],
   "source": [
    "clfull = ComputePowerBiSpectrum(params_cosmo, z, diag=False)\n",
    "clfull.initial_power_spectrum()\n",
    "clfull.calc_B(\n",
    "        k, ell1, ell2, ELL,\n",
    "        alpha_perp=1, alpha_parallel=1, b1=2.1, b2=1, bG2=1, c1=1, c2=1, knl=.3,\n",
    "        Pshot=5000, Bshot=5000,\n",
    "        integrand='tree',\n",
    "        ks=.05,\n",
    "    )\n",
    "treefull = clfull.BK\n",
    "clfull.calc_B(\n",
    "        k, ell1, ell2, ELL,\n",
    "        alpha_perp=1, alpha_parallel=1, b1=2.1, b2=1, bG2=1, c1=1, c2=1, knl=.3,\n",
    "        Pshot=5000, Bshot=5000,\n",
    "        integrand='SN',\n",
    "        ks=.05,\n",
    "    )\n",
    "SNfull = clfull.BK"
   ]
  },
  {
   "cell_type": "code",
   "execution_count": 10,
   "id": "04e5e5b0",
   "metadata": {},
   "outputs": [
    {
     "data": {
      "text/plain": [
       "[<matplotlib.lines.Line2D at 0x7f2bd7439790>]"
      ]
     },
     "execution_count": 10,
     "metadata": {},
     "output_type": "execute_result"
    },
    {
     "data": {
      "image/png": "[encoded data removed]",
      "text/plain": [
       "<Figure size 1080x720 with 1 Axes>"
      ]
     },
     "metadata": {
      "needs_background": "light"
     },
     "output_type": "display_data"
    }
   ],
   "source": [
    "plt.plot(SN['kbin'],SN['kbin']**2*SN['K'])\n",
    "plt.plot(tree['kbin'],tree['kbin']**2*tree['K'])\n",
    "\n",
    "#plt.plot(clfull.BK['kbin1'][:,0],clfull.BK['kbin1'][:,0]**2*np.diag(clfull.BK['K']), linestyle='-.')\n",
    "#plt.plot(clfull.BK['kbin1'][:,0],clfull.BK['kbin1'][:,0]**2*np.diag(clfull.BK['K']), linestyle='-.')"
   ]
  },
  {
   "cell_type": "code",
   "execution_count": null,
   "id": "24b7c347",
   "metadata": {},
   "outputs": [],
   "source": []
  },
  {
   "cell_type": "code",
   "execution_count": null,
   "id": "83f4c686",
   "metadata": {},
   "outputs": [],
   "source": []
  }
 ],
 "metadata": {
  "kernelspec": {
   "display_name": "Python (cpt)",
   "language": "python",
   "name": "cpt"
  },
  "language_info": {
   "codemirror_mode": {
    "name": "ipython",
    "version": 3
   },
   "file_extension": ".py",
   "mimetype": "text/x-python",
   "name": "python",
   "nbconvert_exporter": "python",
   "pygments_lexer": "ipython3",
   "version": "3.9.13"
  }
 },
 "nbformat": 4,
 "nbformat_minor": 5
}
