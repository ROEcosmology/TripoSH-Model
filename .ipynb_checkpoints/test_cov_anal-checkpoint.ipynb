{
 "cells": [
  {
   "cell_type": "code",
   "execution_count": 1,
   "id": "03bf670a",
   "metadata": {},
   "outputs": [],
   "source": [
    "import os\n",
    "from classy import Class\n",
    "import numpy as np\n",
    "from matplotlib import pyplot as plt\n",
    "import initial\n",
    "from cov_PP import ClassCovariancePP\n",
    "from cov_BB_diag import ClassCovarianceBBDiag\n",
    "from cov_PB import ClassCovariancePB"
   ]
  },
  {
   "cell_type": "code",
   "execution_count": 2,
   "id": "5b4e7525",
   "metadata": {},
   "outputs": [
    {
     "name": "stdout",
     "output_type": "stream",
     "text": [
      "0.6359297950105864\n",
      "0.7580956209620838\n"
     ]
    }
   ],
   "source": [
    "h = .6777\n",
    "Omega_m = .307115\n",
    "omega_b = 0.048206*h**2\n",
    "sigma8_0 = .8288\n",
    "\n",
    "# CLASS cosmo\n",
    "params_cosmo = {\n",
    "    'output': 'tCl mPk',\n",
    "    'h': h,\n",
    "    'omega_b': omega_b,\n",
    "    'omega_cdm': Omega_m*h**2 - omega_b,\n",
    "    'sigma8':sigma8_0,\n",
    "    'n_s':.961,\n",
    "    'tau_reio': 0.0826026,\n",
    "    'N_ur': 2.,\n",
    "    'z_max_pk': 3.,\n",
    "    'P_k_max_h/Mpc': 50.,\n",
    "    }\n",
    "\n",
    "cosmo = Class()\n",
    "cosmo.set(params_cosmo)\n",
    "cosmo.compute()\n",
    "\n",
    "initial_cosmo = initial.InputPowerSpectrum(.51, cosmo, params_fid=params_cosmo)\n",
    "initial_cosmo.calcMatterPowerSpectrum()\n",
    "k_in, pk_in = initial_cosmo.getMatterPowerSpectrum()\n",
    "sigma8 = initial_cosmo.getSigma8z(sigma8_0)\n",
    "f_of_z = initial_cosmo.getGrowthRate()\n",
    "print(sigma8)\n",
    "print(f_of_z)\n",
    "params = {'sigma8':sigma8,'fz':f_of_z,'b1':1.98,'alpha_perp':1,\n",
    "          'alpha_parallel':1,'b2':0,'b3':0,'bK2':0,'bK3':0,'bDK':0,'bO':0,}\n",
    "kbin = np.arange(0.02, 0.2, .02)\n",
    "volume = 1.76e9\n",
    "nz = 3.26e-4\n",
    "dk = .02"
   ]
  },
  {
   "cell_type": "code",
   "execution_count": 3,
   "id": "104d79e1",
   "metadata": {},
   "outputs": [
    {
     "name": "stdout",
     "output_type": "stream",
     "text": [
      "CPU times: user 43 µs, sys: 4 µs, total: 47 µs\n",
      "Wall time: 59.6 µs\n"
     ]
    }
   ],
   "source": [
    "%%time\n",
    "covpb = ClassCovariancePB()\n",
    "covpb.set_params(params)\n",
    "covpb.set_input_pk(k_in,pk_in)"
   ]
  },
  {
   "cell_type": "code",
   "execution_count": null,
   "id": "d167e097",
   "metadata": {
    "scrolled": true
   },
   "outputs": [
    {
     "name": "stdout",
     "output_type": "stream",
     "text": [
      "0.6359297950105864\n",
      "k1 =  0.02 h/Mpc\n"
     ]
    }
   ],
   "source": [
    "%%time\n",
    "cpb = covpb.calc_cov_PB( 'cov_PB_NG_PB_diag', kbin=kbin, volume = volume, nmean = nz, deltaK = dk)"
   ]
  },
  {
   "cell_type": "code",
   "execution_count": 5,
   "id": "2e5addce",
   "metadata": {},
   "outputs": [],
   "source": [
    "a={'kbin1': np.array([[0.02, 0.02, 0.02, 0.02, 0.02, 0.02, 0.02, 0.02, 0.02],\n",
    "       [0.04, 0.04, 0.04, 0.04, 0.04, 0.04, 0.04, 0.04, 0.04],\n",
    "       [0.06, 0.06, 0.06, 0.06, 0.06, 0.06, 0.06, 0.06, 0.06],\n",
    "       [0.08, 0.08, 0.08, 0.08, 0.08, 0.08, 0.08, 0.08, 0.08],\n",
    "       [0.1 , 0.1 , 0.1 , 0.1 , 0.1 , 0.1 , 0.1 , 0.1 , 0.1 ],\n",
    "       [0.12, 0.12, 0.12, 0.12, 0.12, 0.12, 0.12, 0.12, 0.12],\n",
    "       [0.14, 0.14, 0.14, 0.14, 0.14, 0.14, 0.14, 0.14, 0.14],\n",
    "       [0.16, 0.16, 0.16, 0.16, 0.16, 0.16, 0.16, 0.16, 0.16],\n",
    "       [0.18, 0.18, 0.18, 0.18, 0.18, 0.18, 0.18, 0.18, 0.18]]), 'kbin2': np.array([[0.02, 0.04, 0.06, 0.08, 0.1 , 0.12, 0.14, 0.16, 0.18],\n",
    "       [0.02, 0.04, 0.06, 0.08, 0.1 , 0.12, 0.14, 0.16, 0.18],\n",
    "       [0.02, 0.04, 0.06, 0.08, 0.1 , 0.12, 0.14, 0.16, 0.18],\n",
    "       [0.02, 0.04, 0.06, 0.08, 0.1 , 0.12, 0.14, 0.16, 0.18],\n",
    "       [0.02, 0.04, 0.06, 0.08, 0.1 , 0.12, 0.14, 0.16, 0.18],\n",
    "       [0.02, 0.04, 0.06, 0.08, 0.1 , 0.12, 0.14, 0.16, 0.18],\n",
    "       [0.02, 0.04, 0.06, 0.08, 0.1 , 0.12, 0.14, 0.16, 0.18],\n",
    "       [0.02, 0.04, 0.06, 0.08, 0.1 , 0.12, 0.14, 0.16, 0.18],\n",
    "       [0.02, 0.04, 0.06, 0.08, 0.1 , 0.12, 0.14, 0.16, 0.18]]), 'cov_PB': np.array([[7.90581758e+12, 2.10483154e+11, 6.92339360e+10, 2.90300903e+10,\n",
    "        1.27212421e+10, 7.61864587e+09, 4.26525934e+09, 2.48915375e+09,\n",
    "        1.71230065e+09],\n",
    "       [7.90581758e+12, 2.10483154e+11, 6.92339360e+10, 2.90300903e+10,\n",
    "        1.27212421e+10, 7.61864587e+09, 4.26525934e+09, 2.48915375e+09,\n",
    "        1.71230065e+09],\n",
    "       [7.90581758e+12, 2.10483154e+11, 6.92339360e+10, 2.90300903e+10,\n",
    "        1.27212421e+10, 7.61864587e+09, 4.26525934e+09, 2.48915375e+09,\n",
    "        1.71230065e+09],\n",
    "       [7.90581758e+12, 2.10483154e+11, 6.92339360e+10, 2.90300903e+10,\n",
    "        1.27212421e+10, 7.61864587e+09, 4.26525934e+09, 2.48915375e+09,\n",
    "        1.71230065e+09],\n",
    "       [7.90581758e+12, 2.10483154e+11, 6.92339360e+10, 2.90300903e+10,\n",
    "        1.27212421e+10, 7.61864587e+09, 4.26525934e+09, 2.48915375e+09,\n",
    "        1.71230065e+09],\n",
    "       [7.90581758e+12, 2.10483154e+11, 6.92339360e+10, 2.90300903e+10,\n",
    "        1.27212421e+10, 7.61864587e+09, 4.26525934e+09, 2.48915375e+09,\n",
    "        1.71230065e+09],\n",
    "       [7.90581758e+12, 2.10483154e+11, 6.92339360e+10, 2.90300903e+10,\n",
    "        1.27212421e+10, 7.61864587e+09, 4.26525934e+09, 2.48915375e+09,\n",
    "        1.71230065e+09],\n",
    "       [7.90581758e+12, 2.10483154e+11, 6.92339360e+10, 2.90300903e+10,\n",
    "        1.27212421e+10, 7.61864587e+09, 4.26525934e+09, 2.48915375e+09,\n",
    "        1.71230065e+09],\n",
    "       [7.90581758e+12, 2.10483154e+11, 6.92339360e+10, 2.90300903e+10,\n",
    "        1.27212421e+10, 7.61864587e+09, 4.26525934e+09, 2.48915375e+09,\n",
    "        1.71230065e+09]]), 'ELL': 0, 'ell1_dash': 0, 'ell2_dash': 0, 'ELL_dash': 0}"
   ]
  },
  {
   "cell_type": "code",
   "execution_count": 1,
   "id": "15f93451",
   "metadata": {},
   "outputs": [
    {
     "ename": "NameError",
     "evalue": "name 'plt' is not defined",
     "output_type": "error",
     "traceback": [
      "\u001b[0;31m---------------------------------------------------------------------------\u001b[0m",
      "\u001b[0;31mNameError\u001b[0m                                 Traceback (most recent call last)",
      "\u001b[0;32m/tmp/ipykernel_1968469/579717010.py\u001b[0m in \u001b[0;36m<cell line: 3>\u001b[0;34m()\u001b[0m\n\u001b[1;32m      1\u001b[0m \u001b[0;31m#plt.plot(a['kbin1'][:,0], a['kbin1'][:,0]**6*np.diag(a['cov_PB']))\u001b[0m\u001b[0;34m\u001b[0m\u001b[0;34m\u001b[0m\u001b[0m\n\u001b[1;32m      2\u001b[0m \u001b[0;31m#plt.plot(cpb['kbin1'][:,0], cpb['kbin1'][:,0]**6*np.diag(cpb['cov_PB']))\u001b[0m\u001b[0;34m\u001b[0m\u001b[0;34m\u001b[0m\u001b[0m\n\u001b[0;32m----> 3\u001b[0;31m \u001b[0mplt\u001b[0m\u001b[0;34m.\u001b[0m\u001b[0mplot\u001b[0m\u001b[0;34m(\u001b[0m\u001b[0mcpb\u001b[0m\u001b[0;34m[\u001b[0m\u001b[0;34m'kbin1'\u001b[0m\u001b[0;34m]\u001b[0m\u001b[0;34m[\u001b[0m\u001b[0;34m:\u001b[0m\u001b[0;34m,\u001b[0m\u001b[0;36m0\u001b[0m\u001b[0;34m]\u001b[0m\u001b[0;34m,\u001b[0m \u001b[0mcpb\u001b[0m\u001b[0;34m[\u001b[0m\u001b[0;34m'kbin1'\u001b[0m\u001b[0;34m]\u001b[0m\u001b[0;34m[\u001b[0m\u001b[0;34m:\u001b[0m\u001b[0;34m,\u001b[0m\u001b[0;36m0\u001b[0m\u001b[0;34m]\u001b[0m\u001b[0;34m**\u001b[0m\u001b[0;36m6\u001b[0m\u001b[0;34m*\u001b[0m\u001b[0mnp\u001b[0m\u001b[0;34m.\u001b[0m\u001b[0mdiag\u001b[0m\u001b[0;34m(\u001b[0m\u001b[0mcpb\u001b[0m\u001b[0;34m[\u001b[0m\u001b[0;34m'cov_PB'\u001b[0m\u001b[0;34m]\u001b[0m\u001b[0;34m)\u001b[0m\u001b[0;34m)\u001b[0m\u001b[0;34m\u001b[0m\u001b[0;34m\u001b[0m\u001b[0m\n\u001b[0m",
      "\u001b[0;31mNameError\u001b[0m: name 'plt' is not defined"
     ]
    }
   ],
   "source": [
    "plt.plot(a['kbin1'][:,0], a['kbin1'][:,0]**6*np.diag(a['cov_PB']))\n",
    "plt.plot(cpb['kbin1'][:,0], cpb['kbin1'][:,0]**6*np.diag(cpb['cov_PB']))\n",
    "plt.plot(cpb['kbin1'][:,0], cpb['kbin1'][:,0]**6*np.diag(cpb['cov_PB']))"
   ]
  },
  {
   "cell_type": "code",
   "execution_count": 7,
   "id": "4145c2e8",
   "metadata": {},
   "outputs": [
    {
     "name": "stdout",
     "output_type": "stream",
     "text": [
      "CPU times: user 155 µs, sys: 6 µs, total: 161 µs\n",
      "Wall time: 179 µs\n"
     ]
    }
   ],
   "source": [
    "%%time\n",
    "covpp = ClassCovariancePP()\n",
    "covpp.set_params(params)\n",
    "covpp.set_input_pk(k_in,pk_in)"
   ]
  },
  {
   "cell_type": "code",
   "execution_count": 8,
   "id": "3c70b6af",
   "metadata": {},
   "outputs": [
    {
     "name": "stdout",
     "output_type": "stream",
     "text": [
      "CPU times: user 23.8 ms, sys: 0 ns, total: 23.8 ms\n",
      "Wall time: 23.6 ms\n"
     ]
    }
   ],
   "source": [
    "%%time\n",
    "cpp = covpp.calc_cov_PP( 'cov_PP_G', kbin=kbin, volume = volume, nmean = nz, deltaK = dk)"
   ]
  },
  {
   "cell_type": "code",
   "execution_count": 9,
   "id": "a614db35",
   "metadata": {},
   "outputs": [
    {
     "data": {
      "text/plain": [
       "[<matplotlib.lines.Line2D at 0x7efdc4021640>]"
      ]
     },
     "execution_count": 9,
     "metadata": {},
     "output_type": "execute_result"
    },
    {
     "data": {
      "image/png": "[encoded data removed]",
      "text/plain": [
       "<Figure size 432x288 with 1 Axes>"
      ]
     },
     "metadata": {
      "needs_background": "light"
     },
     "output_type": "display_data"
    }
   ],
   "source": [
    "plt.plot(cpp['kbin1'][:,0], cpp['kbin1'][:,0]**6*np.diag(cpp['cov_PP']))"
   ]
  },
  {
   "cell_type": "code",
   "execution_count": 10,
   "id": "1249e33c",
   "metadata": {},
   "outputs": [
    {
     "name": "stdout",
     "output_type": "stream",
     "text": [
      "CPU times: user 41 µs, sys: 2 µs, total: 43 µs\n",
      "Wall time: 50.8 µs\n"
     ]
    }
   ],
   "source": [
    "%%time\n",
    "covbb = ClassCovarianceBBDiag()\n",
    "covbb.set_params(params)\n",
    "covbb.set_input_pk(k_in,pk_in)"
   ]
  },
  {
   "cell_type": "code",
   "execution_count": 11,
   "id": "2b863f48",
   "metadata": {},
   "outputs": [
    {
     "name": "stdout",
     "output_type": "stream",
     "text": [
      "k1 =  0.02 h/Mpc\n",
      "k1 =  0.04 h/Mpc\n",
      "k1 =  0.06 h/Mpc\n",
      "k1 =  0.08 h/Mpc\n",
      "k1 =  0.1 h/Mpc\n",
      "k1 =  0.12000000000000001 h/Mpc\n",
      "k1 =  0.13999999999999999 h/Mpc\n",
      "k1 =  0.16 h/Mpc\n",
      "k1 =  0.18 h/Mpc\n",
      "CPU times: user 5.46 s, sys: 512 ms, total: 5.97 s\n",
      "Wall time: 5.37 s\n"
     ]
    }
   ],
   "source": [
    "%%time\n",
    "cbb = covbb.calc_cov_BB( 'cov_BB_G',kbin=kbin,volume = volume, nmean = nz, deltaK = dk)"
   ]
  },
  {
   "cell_type": "code",
   "execution_count": 12,
   "id": "cd71dde6",
   "metadata": {
    "scrolled": true
   },
   "outputs": [
    {
     "data": {
      "text/plain": [
       "[<matplotlib.lines.Line2D at 0x7efd17ff6490>]"
      ]
     },
     "execution_count": 12,
     "metadata": {},
     "output_type": "execute_result"
    },
    {
     "data": {
      "image/png": "[encoded data removed]",
      "text/plain": [
       "<Figure size 432x288 with 1 Axes>"
      ]
     },
     "metadata": {
      "needs_background": "light"
     },
     "output_type": "display_data"
    }
   ],
   "source": [
    "plt.plot(cbb['kbin1'][:,0], cbb['kbin1'][:,0]**8*np.diag(cbb['cov_BB']))"
   ]
  },
  {
   "cell_type": "code",
   "execution_count": null,
   "id": "33dcfabc",
   "metadata": {},
   "outputs": [],
   "source": []
  },
  {
   "cell_type": "code",
   "execution_count": null,
   "id": "5098cd1c",
   "metadata": {},
   "outputs": [],
   "source": []
  }
 ],
 "metadata": {
  "kernelspec": {
   "display_name": "Python 3 (ipykernel)",
   "language": "python",
   "name": "python3"
  },
  "language_info": {
   "codemirror_mode": {
    "name": "ipython",
    "version": 3
   },
   "file_extension": ".py",
   "mimetype": "text/x-python",
   "name": "python",
   "nbconvert_exporter": "python",
   "pygments_lexer": "ipython3",
   "version": "3.9.13"
  }
 },
 "nbformat": 4,
 "nbformat_minor": 5
}
