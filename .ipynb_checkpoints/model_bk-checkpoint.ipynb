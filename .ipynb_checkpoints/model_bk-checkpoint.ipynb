{
 "cells": [
  {
   "cell_type": "code",
   "execution_count": 38,
   "id": "17b02f22",
   "metadata": {},
   "outputs": [],
   "source": [
    "from classy import Class\n",
    "import numpy as np\n",
    "from powerbispectrum import ComputePowerBiSpectrum\n",
    "from matplotlib import pyplot as plt\n",
    "import matplotlib.cm as cm\n",
    "plt.rcParams['text.usetex'] = False\n",
    "plt.rcParams['figure.figsize'] = [15, 10]"
   ]
  },
  {
   "cell_type": "code",
   "execution_count": 2,
   "id": "9cd5179e",
   "metadata": {},
   "outputs": [],
   "source": [
    "h_fid = .6736\n",
    "omega_b_fid = .02237\n",
    "omega_cdm_fid = .12\n",
    "n_s_fid = .9649\n",
    "A_s_fid = 2.083e-9\n",
    "\n",
    "params_cosmo = {\n",
    "            'output': 'mPk',\n",
    "            'h': h_fid,\n",
    "            'omega_b': omega_b_fid,\n",
    "            'omega_cdm': omega_cdm_fid,\n",
    "            'n_s': n_s_fid,\n",
    "            'A_s': A_s_fid,\n",
    "            'tau_reio': 0.0544,\n",
    "            'N_ncdm': 1.,\n",
    "            'm_ncdm': 0.06,\n",
    "            'N_ur': 2.0328,\n",
    "            'z_max_pk': 3.,\n",
    "            'P_k_max_h/Mpc': 50.,\n",
    "            }\n",
    "z = .8"
   ]
  },
  {
   "cell_type": "code",
   "execution_count": 3,
   "id": "8df5b73a",
   "metadata": {},
   "outputs": [],
   "source": [
    "bk_meas000_real = np.loadtxt('/home/rneveux/Mike_bk/bk000_real.dat')\n",
    "bk_meas000_rsd = np.loadtxt('/home/rneveux/Mike_bk/bk000_rsd.dat')\n",
    "bk_meas110_real = np.loadtxt('/home/rneveux/Mike_bk/bk110_real.dat')\n",
    "bk_meas110_rsd = np.loadtxt('/home/rneveux/Mike_bk/bk110_rsd.dat')\n",
    "bk_meas220_real = np.loadtxt('/home/rneveux/Mike_bk/bk220_real.dat')\n",
    "bk_meas220_rsd = np.loadtxt('/home/rneveux/Mike_bk/bk220_rsd.dat')\n",
    "bk_meas202_rsd = np.loadtxt('/home/rneveux/Mike_bk/bk202_rsd.dat')\n",
    "bk_meas112_rsd = np.loadtxt('/home/rneveux/Mike_bk/bk112_rsd.dat')"
   ]
  },
  {
   "cell_type": "code",
   "execution_count": 4,
   "id": "49c5b617",
   "metadata": {},
   "outputs": [],
   "source": [
    "kbin = np.linspace(.001, .4, 100)"
   ]
  },
  {
   "cell_type": "code",
   "execution_count": 5,
   "id": "75d8c085",
   "metadata": {},
   "outputs": [
    {
     "data": {
      "text/plain": [
       "array([0.001     , 0.0050303 , 0.00906061, 0.01309091, 0.01712121,\n",
       "       0.02115152, 0.02518182, 0.02921212, 0.03324242, 0.03727273,\n",
       "       0.04130303, 0.04533333, 0.04936364, 0.05339394, 0.05742424,\n",
       "       0.06145455, 0.06548485, 0.06951515, 0.07354545, 0.07757576,\n",
       "       0.08160606, 0.08563636, 0.08966667, 0.09369697, 0.09772727,\n",
       "       0.10175758, 0.10578788, 0.10981818, 0.11384848, 0.11787879,\n",
       "       0.12190909, 0.12593939, 0.1299697 , 0.134     , 0.1380303 ,\n",
       "       0.14206061, 0.14609091, 0.15012121, 0.15415152, 0.15818182,\n",
       "       0.16221212, 0.16624242, 0.17027273, 0.17430303, 0.17833333,\n",
       "       0.18236364, 0.18639394, 0.19042424, 0.19445455, 0.19848485,\n",
       "       0.20251515, 0.20654545, 0.21057576, 0.21460606, 0.21863636,\n",
       "       0.22266667, 0.22669697, 0.23072727, 0.23475758, 0.23878788,\n",
       "       0.24281818, 0.24684848, 0.25087879, 0.25490909, 0.25893939,\n",
       "       0.2629697 , 0.267     , 0.2710303 , 0.27506061, 0.27909091,\n",
       "       0.28312121, 0.28715152, 0.29118182, 0.29521212, 0.29924242,\n",
       "       0.30327273, 0.30730303, 0.31133333, 0.31536364, 0.31939394,\n",
       "       0.32342424, 0.32745455, 0.33148485, 0.33551515, 0.33954545,\n",
       "       0.34357576, 0.34760606, 0.35163636, 0.35566667, 0.35969697,\n",
       "       0.36372727, 0.36775758, 0.37178788, 0.37581818, 0.37984848,\n",
       "       0.38387879, 0.38790909, 0.39193939, 0.3959697 , 0.4       ])"
      ]
     },
     "execution_count": 5,
     "metadata": {},
     "output_type": "execute_result"
    }
   ],
   "source": [
    "kbin"
   ]
  },
  {
   "cell_type": "code",
   "execution_count": 6,
   "id": "377578ba",
   "metadata": {},
   "outputs": [
    {
     "name": "stdout",
     "output_type": "stream",
     "text": [
      "CPU times: user 35.1 s, sys: 101 ms, total: 35.2 s\n",
      "Wall time: 7.67 s\n"
     ]
    }
   ],
   "source": [
    "%%time\n",
    "cl = ComputePowerBiSpectrum(params_cosmo, z, diag=False)\n",
    "cl.initial_power_spectrum(real=True)"
   ]
  },
  {
   "cell_type": "code",
   "execution_count": 7,
   "id": "3bfff9f6",
   "metadata": {},
   "outputs": [
    {
     "name": "stdout",
     "output_type": "stream",
     "text": [
      "k1 =  0.001 h/Mpc\n",
      "k1 =  0.005030303030303031 h/Mpc\n",
      "k1 =  0.00906060606060606 h/Mpc\n",
      "k1 =  0.013090909090909094 h/Mpc\n",
      "k1 =  0.017121212121212124 h/Mpc\n",
      "k1 =  0.021151515151515154 h/Mpc\n",
      "k1 =  0.025181818181818187 h/Mpc\n",
      "k1 =  0.029212121212121217 h/Mpc\n",
      "k1 =  0.03324242424242425 h/Mpc\n",
      "k1 =  0.03727272727272728 h/Mpc\n",
      "k1 =  0.04130303030303031 h/Mpc\n",
      "k1 =  0.04533333333333334 h/Mpc\n",
      "k1 =  0.04936363636363637 h/Mpc\n",
      "k1 =  0.0533939393939394 h/Mpc\n",
      "k1 =  0.05742424242424243 h/Mpc\n",
      "k1 =  0.06145454545454546 h/Mpc\n",
      "k1 =  0.06548484848484849 h/Mpc\n",
      "k1 =  0.06951515151515153 h/Mpc\n",
      "k1 =  0.07354545454545455 h/Mpc\n",
      "k1 =  0.07757575757575759 h/Mpc\n",
      "k1 =  0.08160606060606061 h/Mpc\n",
      "k1 =  0.08563636363636365 h/Mpc\n",
      "k1 =  0.08966666666666667 h/Mpc\n",
      "k1 =  0.09369696969696971 h/Mpc\n",
      "k1 =  0.09772727272727275 h/Mpc\n",
      "k1 =  0.10175757575757577 h/Mpc\n",
      "k1 =  0.1057878787878788 h/Mpc\n",
      "k1 =  0.10981818181818183 h/Mpc\n",
      "k1 =  0.11384848484848487 h/Mpc\n",
      "k1 =  0.11787878787878789 h/Mpc\n",
      "k1 =  0.12190909090909093 h/Mpc\n",
      "k1 =  0.12593939393939393 h/Mpc\n",
      "k1 =  0.12996969696969699 h/Mpc\n",
      "k1 =  0.134 h/Mpc\n",
      "k1 =  0.13803030303030306 h/Mpc\n",
      "k1 =  0.14206060606060608 h/Mpc\n",
      "k1 =  0.1460909090909091 h/Mpc\n",
      "k1 =  0.15012121212121213 h/Mpc\n",
      "k1 =  0.15415151515151518 h/Mpc\n",
      "k1 =  0.1581818181818182 h/Mpc\n",
      "k1 =  0.16221212121212122 h/Mpc\n",
      "k1 =  0.16624242424242427 h/Mpc\n",
      "k1 =  0.1702727272727273 h/Mpc\n",
      "k1 =  0.17430303030303032 h/Mpc\n",
      "k1 =  0.17833333333333334 h/Mpc\n",
      "k1 =  0.1823636363636364 h/Mpc\n",
      "k1 =  0.18639393939393942 h/Mpc\n",
      "k1 =  0.19042424242424244 h/Mpc\n",
      "k1 =  0.1944545454545455 h/Mpc\n",
      "k1 =  0.19848484848484851 h/Mpc\n",
      "k1 =  0.20251515151515154 h/Mpc\n",
      "k1 =  0.20654545454545456 h/Mpc\n",
      "k1 =  0.2105757575757576 h/Mpc\n",
      "k1 =  0.21460606060606063 h/Mpc\n",
      "k1 =  0.21863636363636366 h/Mpc\n",
      "k1 =  0.22266666666666668 h/Mpc\n",
      "k1 =  0.22669696969696973 h/Mpc\n",
      "k1 =  0.23072727272727275 h/Mpc\n",
      "k1 =  0.23475757575757578 h/Mpc\n",
      "k1 =  0.23878787878787883 h/Mpc\n",
      "k1 =  0.24281818181818185 h/Mpc\n",
      "k1 =  0.24684848484848487 h/Mpc\n",
      "k1 =  0.25087878787878787 h/Mpc\n",
      "k1 =  0.2549090909090909 h/Mpc\n",
      "k1 =  0.25893939393939397 h/Mpc\n",
      "k1 =  0.262969696969697 h/Mpc\n",
      "k1 =  0.267 h/Mpc\n",
      "k1 =  0.27103030303030307 h/Mpc\n",
      "k1 =  0.2750606060606061 h/Mpc\n",
      "k1 =  0.2790909090909091 h/Mpc\n",
      "k1 =  0.28312121212121216 h/Mpc\n",
      "k1 =  0.28715151515151516 h/Mpc\n",
      "k1 =  0.2911818181818182 h/Mpc\n",
      "k1 =  0.29521212121212126 h/Mpc\n",
      "k1 =  0.29924242424242425 h/Mpc\n",
      "k1 =  0.3032727272727273 h/Mpc\n",
      "k1 =  0.30730303030303036 h/Mpc\n",
      "k1 =  0.31133333333333335 h/Mpc\n",
      "k1 =  0.3153636363636364 h/Mpc\n",
      "k1 =  0.31939393939393945 h/Mpc\n",
      "k1 =  0.32342424242424245 h/Mpc\n",
      "k1 =  0.3274545454545455 h/Mpc\n",
      "k1 =  0.33148484848484855 h/Mpc\n",
      "k1 =  0.33551515151515154 h/Mpc\n",
      "k1 =  0.3395454545454546 h/Mpc\n",
      "k1 =  0.3435757575757576 h/Mpc\n",
      "k1 =  0.34760606060606064 h/Mpc\n",
      "k1 =  0.3516363636363637 h/Mpc\n",
      "k1 =  0.3556666666666667 h/Mpc\n",
      "k1 =  0.35969696969696974 h/Mpc\n",
      "k1 =  0.3637272727272728 h/Mpc\n",
      "k1 =  0.3677575757575758 h/Mpc\n",
      "k1 =  0.37178787878787883 h/Mpc\n",
      "k1 =  0.3758181818181819 h/Mpc\n",
      "k1 =  0.3798484848484849 h/Mpc\n",
      "k1 =  0.38387878787878793 h/Mpc\n",
      "k1 =  0.387909090909091 h/Mpc\n",
      "k1 =  0.391939393939394 h/Mpc\n",
      "k1 =  0.395969696969697 h/Mpc\n",
      "k1 =  0.4 h/Mpc\n",
      "CPU times: user 1min 35s, sys: 371 ms, total: 1min 36s\n",
      "Wall time: 1min 35s\n"
     ]
    }
   ],
   "source": [
    "%%time\n",
    "ell1 = 0\n",
    "ell2 = 0\n",
    "ELL = 0\n",
    "cl.calc_B(\n",
    "        kbin, ell1, ell2, ELL,\n",
    "        alpha_perp=1, alpha_parallel=1, b1=2.222, b2=0, bG2=0, c1=0, c2=0, knl=.3,\n",
    "        Pshot=0, Bshot=0,\n",
    "        integrand='tree',\n",
    "        ks=.05,\n",
    "    )"
   ]
  },
  {
   "cell_type": "code",
   "execution_count": 8,
   "id": "9a884809",
   "metadata": {},
   "outputs": [
    {
     "data": {
      "text/plain": [
       "array([[5.59046097e+07, 2.38072763e+08, 3.49879861e+08, ...,\n",
       "        1.20445447e+07, 1.17972136e+07, 1.15563836e+07],\n",
       "       [2.38072763e+08, 8.81900338e+08, 1.31443065e+09, ...,\n",
       "        4.70614170e+07, 4.60946754e+07, 4.51537376e+07],\n",
       "       [3.49879861e+08, 1.31443065e+09, 1.79381747e+09, ...,\n",
       "        6.62135551e+07, 6.48528142e+07, 6.35288210e+07],\n",
       "       ...,\n",
       "       [1.20445447e+07, 4.70614170e+07, 6.62135551e+07, ...,\n",
       "        1.85797371e+06, 1.83199061e+06, 1.81749302e+06],\n",
       "       [1.17972136e+07, 4.60946754e+07, 6.48528142e+07, ...,\n",
       "        1.83199061e+06, 1.78628404e+06, 1.76158242e+06],\n",
       "       [1.15563836e+07, 4.51537376e+07, 6.35288210e+07, ...,\n",
       "        1.81749302e+06, 1.76158242e+06, 1.71792575e+06]])"
      ]
     },
     "execution_count": 8,
     "metadata": {},
     "output_type": "execute_result"
    }
   ],
   "source": [
    "cl.BK['K']"
   ]
  },
  {
   "cell_type": "code",
   "execution_count": 39,
   "id": "4478a816",
   "metadata": {},
   "outputs": [
    {
     "name": "stdout",
     "output_type": "stream",
     "text": [
      "0\n",
      "10\n",
      "20\n",
      "30\n",
      "40\n",
      "50\n",
      "60\n",
      "70\n",
      "80\n"
     ]
    },
    {
     "data": {
      "text/plain": [
       "Text(0.5, 0, '$k^2$')"
      ]
     },
     "execution_count": 39,
     "metadata": {},
     "output_type": "execute_result"
    },
    {
     "ename": "RuntimeError",
     "evalue": "latex was not able to process the following string:\nb'lp'\n\nHere is the full report generated by latex:\nThis is pdfTeX, Version 3.141592653-2.6-1.40.22 (TeX Live 2022/dev/Debian) (preloaded format=latex)\n restricted \\write18 enabled.\nentering extended mode\n(../1acea6f6c115d0ec7a634ed0529287b9.tex\nLaTeX2e <2021-11-15> patch level 1\nL3 programming layer <2022-01-21>\n(/usr/share/texlive/texmf-dist/tex/latex/base/article.cls\nDocument Class: article 2021/10/04 v1.4n Standard LaTeX document class\n(/usr/share/texlive/texmf-dist/tex/latex/base/size10.clo))\n(/usr/share/texlive/texmf-dist/tex/latex/type1cm/type1cm.sty)\n\n! LaTeX Error: File `type1ec.sty' not found.\n\nType X to quit or <RETURN> to proceed,\nor enter new name. (Default extension: sty)\n\nEnter file name: \n! Emergency stop.\n<read *> \n         \nl.6 \\usepackage\n               [utf8]{inputenc}^^M\nNo pages of output.\nTranscript written on 1acea6f6c115d0ec7a634ed0529287b9.log.\n\n\n",
     "output_type": "error",
     "traceback": [
      "\u001b[0;31m---------------------------------------------------------------------------\u001b[0m",
      "\u001b[0;31mCalledProcessError\u001b[0m                        Traceback (most recent call last)",
      "File \u001b[0;32m/usr/local/anaconda/3.9/lib/python3.9/site-packages/matplotlib/texmanager.py:233\u001b[0m, in \u001b[0;36mTexManager._run_checked_subprocess\u001b[0;34m(self, command, tex, cwd)\u001b[0m\n\u001b[1;32m    232\u001b[0m \u001b[38;5;28;01mtry\u001b[39;00m:\n\u001b[0;32m--> 233\u001b[0m     report \u001b[38;5;241m=\u001b[39m \u001b[43msubprocess\u001b[49m\u001b[38;5;241;43m.\u001b[39;49m\u001b[43mcheck_output\u001b[49m\u001b[43m(\u001b[49m\n\u001b[1;32m    234\u001b[0m \u001b[43m        \u001b[49m\u001b[43mcommand\u001b[49m\u001b[43m,\u001b[49m\u001b[43m \u001b[49m\u001b[43mcwd\u001b[49m\u001b[38;5;241;43m=\u001b[39;49m\u001b[43mcwd\u001b[49m\u001b[43m \u001b[49m\u001b[38;5;28;43;01mif\u001b[39;49;00m\u001b[43m \u001b[49m\u001b[43mcwd\u001b[49m\u001b[43m \u001b[49m\u001b[38;5;129;43;01mis\u001b[39;49;00m\u001b[43m \u001b[49m\u001b[38;5;129;43;01mnot\u001b[39;49;00m\u001b[43m \u001b[49m\u001b[38;5;28;43;01mNone\u001b[39;49;00m\u001b[43m \u001b[49m\u001b[38;5;28;43;01melse\u001b[39;49;00m\u001b[43m \u001b[49m\u001b[38;5;28;43mself\u001b[39;49m\u001b[38;5;241;43m.\u001b[39;49m\u001b[43mtexcache\u001b[49m\u001b[43m,\u001b[49m\n\u001b[1;32m    235\u001b[0m \u001b[43m        \u001b[49m\u001b[43mstderr\u001b[49m\u001b[38;5;241;43m=\u001b[39;49m\u001b[43msubprocess\u001b[49m\u001b[38;5;241;43m.\u001b[39;49m\u001b[43mSTDOUT\u001b[49m\u001b[43m)\u001b[49m\n\u001b[1;32m    236\u001b[0m \u001b[38;5;28;01mexcept\u001b[39;00m \u001b[38;5;167;01mFileNotFoundError\u001b[39;00m \u001b[38;5;28;01mas\u001b[39;00m exc:\n",
      "File \u001b[0;32m/usr/local/anaconda/3.9/lib/python3.9/subprocess.py:424\u001b[0m, in \u001b[0;36mcheck_output\u001b[0;34m(timeout, *popenargs, **kwargs)\u001b[0m\n\u001b[1;32m    422\u001b[0m     kwargs[\u001b[38;5;124m'\u001b[39m\u001b[38;5;124minput\u001b[39m\u001b[38;5;124m'\u001b[39m] \u001b[38;5;241m=\u001b[39m empty\n\u001b[0;32m--> 424\u001b[0m \u001b[38;5;28;01mreturn\u001b[39;00m \u001b[43mrun\u001b[49m\u001b[43m(\u001b[49m\u001b[38;5;241;43m*\u001b[39;49m\u001b[43mpopenargs\u001b[49m\u001b[43m,\u001b[49m\u001b[43m \u001b[49m\u001b[43mstdout\u001b[49m\u001b[38;5;241;43m=\u001b[39;49m\u001b[43mPIPE\u001b[49m\u001b[43m,\u001b[49m\u001b[43m \u001b[49m\u001b[43mtimeout\u001b[49m\u001b[38;5;241;43m=\u001b[39;49m\u001b[43mtimeout\u001b[49m\u001b[43m,\u001b[49m\u001b[43m \u001b[49m\u001b[43mcheck\u001b[49m\u001b[38;5;241;43m=\u001b[39;49m\u001b[38;5;28;43;01mTrue\u001b[39;49;00m\u001b[43m,\u001b[49m\n\u001b[1;32m    425\u001b[0m \u001b[43m           \u001b[49m\u001b[38;5;241;43m*\u001b[39;49m\u001b[38;5;241;43m*\u001b[39;49m\u001b[43mkwargs\u001b[49m\u001b[43m)\u001b[49m\u001b[38;5;241m.\u001b[39mstdout\n",
      "File \u001b[0;32m/usr/local/anaconda/3.9/lib/python3.9/subprocess.py:528\u001b[0m, in \u001b[0;36mrun\u001b[0;34m(input, capture_output, timeout, check, *popenargs, **kwargs)\u001b[0m\n\u001b[1;32m    527\u001b[0m     \u001b[38;5;28;01mif\u001b[39;00m check \u001b[38;5;129;01mand\u001b[39;00m retcode:\n\u001b[0;32m--> 528\u001b[0m         \u001b[38;5;28;01mraise\u001b[39;00m CalledProcessError(retcode, process\u001b[38;5;241m.\u001b[39margs,\n\u001b[1;32m    529\u001b[0m                                  output\u001b[38;5;241m=\u001b[39mstdout, stderr\u001b[38;5;241m=\u001b[39mstderr)\n\u001b[1;32m    530\u001b[0m \u001b[38;5;28;01mreturn\u001b[39;00m CompletedProcess(process\u001b[38;5;241m.\u001b[39margs, retcode, stdout, stderr)\n",
      "\u001b[0;31mCalledProcessError\u001b[0m: Command '['latex', '-interaction=nonstopmode', '--halt-on-error', '../1acea6f6c115d0ec7a634ed0529287b9.tex']' returned non-zero exit status 1.",
      "\nThe above exception was the direct cause of the following exception:\n",
      "\u001b[0;31mRuntimeError\u001b[0m                              Traceback (most recent call last)",
      "File \u001b[0;32m/usr/local/anaconda/3.9/lib/python3.9/site-packages/IPython/core/formatters.py:339\u001b[0m, in \u001b[0;36mBaseFormatter.__call__\u001b[0;34m(self, obj)\u001b[0m\n\u001b[1;32m    337\u001b[0m     \u001b[38;5;28;01mpass\u001b[39;00m\n\u001b[1;32m    338\u001b[0m \u001b[38;5;28;01melse\u001b[39;00m:\n\u001b[0;32m--> 339\u001b[0m     \u001b[38;5;28;01mreturn\u001b[39;00m \u001b[43mprinter\u001b[49m\u001b[43m(\u001b[49m\u001b[43mobj\u001b[49m\u001b[43m)\u001b[49m\n\u001b[1;32m    340\u001b[0m \u001b[38;5;66;03m# Finally look for special method names\u001b[39;00m\n\u001b[1;32m    341\u001b[0m method \u001b[38;5;241m=\u001b[39m get_real_method(obj, \u001b[38;5;28mself\u001b[39m\u001b[38;5;241m.\u001b[39mprint_method)\n",
      "File \u001b[0;32m/usr/local/anaconda/3.9/lib/python3.9/site-packages/IPython/core/pylabtools.py:151\u001b[0m, in \u001b[0;36mprint_figure\u001b[0;34m(fig, fmt, bbox_inches, base64, **kwargs)\u001b[0m\n\u001b[1;32m    148\u001b[0m     \u001b[38;5;28;01mfrom\u001b[39;00m \u001b[38;5;21;01mmatplotlib\u001b[39;00m\u001b[38;5;21;01m.\u001b[39;00m\u001b[38;5;21;01mbackend_bases\u001b[39;00m \u001b[38;5;28;01mimport\u001b[39;00m FigureCanvasBase\n\u001b[1;32m    149\u001b[0m     FigureCanvasBase(fig)\n\u001b[0;32m--> 151\u001b[0m \u001b[43mfig\u001b[49m\u001b[38;5;241;43m.\u001b[39;49m\u001b[43mcanvas\u001b[49m\u001b[38;5;241;43m.\u001b[39;49m\u001b[43mprint_figure\u001b[49m\u001b[43m(\u001b[49m\u001b[43mbytes_io\u001b[49m\u001b[43m,\u001b[49m\u001b[43m \u001b[49m\u001b[38;5;241;43m*\u001b[39;49m\u001b[38;5;241;43m*\u001b[39;49m\u001b[43mkw\u001b[49m\u001b[43m)\u001b[49m\n\u001b[1;32m    152\u001b[0m data \u001b[38;5;241m=\u001b[39m bytes_io\u001b[38;5;241m.\u001b[39mgetvalue()\n\u001b[1;32m    153\u001b[0m \u001b[38;5;28;01mif\u001b[39;00m fmt \u001b[38;5;241m==\u001b[39m \u001b[38;5;124m'\u001b[39m\u001b[38;5;124msvg\u001b[39m\u001b[38;5;124m'\u001b[39m:\n",
      "File \u001b[0;32m/usr/local/anaconda/3.9/lib/python3.9/site-packages/matplotlib/backend_bases.py:2295\u001b[0m, in \u001b[0;36mFigureCanvasBase.print_figure\u001b[0;34m(self, filename, dpi, facecolor, edgecolor, orientation, format, bbox_inches, pad_inches, bbox_extra_artists, backend, **kwargs)\u001b[0m\n\u001b[1;32m   2289\u001b[0m     renderer \u001b[38;5;241m=\u001b[39m _get_renderer(\n\u001b[1;32m   2290\u001b[0m         \u001b[38;5;28mself\u001b[39m\u001b[38;5;241m.\u001b[39mfigure,\n\u001b[1;32m   2291\u001b[0m         functools\u001b[38;5;241m.\u001b[39mpartial(\n\u001b[1;32m   2292\u001b[0m             print_method, orientation\u001b[38;5;241m=\u001b[39morientation)\n\u001b[1;32m   2293\u001b[0m     )\n\u001b[1;32m   2294\u001b[0m     \u001b[38;5;28;01mwith\u001b[39;00m \u001b[38;5;28mgetattr\u001b[39m(renderer, \u001b[38;5;124m\"\u001b[39m\u001b[38;5;124m_draw_disabled\u001b[39m\u001b[38;5;124m\"\u001b[39m, nullcontext)():\n\u001b[0;32m-> 2295\u001b[0m         \u001b[38;5;28;43mself\u001b[39;49m\u001b[38;5;241;43m.\u001b[39;49m\u001b[43mfigure\u001b[49m\u001b[38;5;241;43m.\u001b[39;49m\u001b[43mdraw\u001b[49m\u001b[43m(\u001b[49m\u001b[43mrenderer\u001b[49m\u001b[43m)\u001b[49m\n\u001b[1;32m   2297\u001b[0m \u001b[38;5;28;01mif\u001b[39;00m bbox_inches:\n\u001b[1;32m   2298\u001b[0m     \u001b[38;5;28;01mif\u001b[39;00m bbox_inches \u001b[38;5;241m==\u001b[39m \u001b[38;5;124m\"\u001b[39m\u001b[38;5;124mtight\u001b[39m\u001b[38;5;124m\"\u001b[39m:\n",
      "File \u001b[0;32m/usr/local/anaconda/3.9/lib/python3.9/site-packages/matplotlib/artist.py:73\u001b[0m, in \u001b[0;36m_finalize_rasterization.<locals>.draw_wrapper\u001b[0;34m(artist, renderer, *args, **kwargs)\u001b[0m\n\u001b[1;32m     71\u001b[0m \u001b[38;5;129m@wraps\u001b[39m(draw)\n\u001b[1;32m     72\u001b[0m \u001b[38;5;28;01mdef\u001b[39;00m \u001b[38;5;21mdraw_wrapper\u001b[39m(artist, renderer, \u001b[38;5;241m*\u001b[39margs, \u001b[38;5;241m*\u001b[39m\u001b[38;5;241m*\u001b[39mkwargs):\n\u001b[0;32m---> 73\u001b[0m     result \u001b[38;5;241m=\u001b[39m \u001b[43mdraw\u001b[49m\u001b[43m(\u001b[49m\u001b[43martist\u001b[49m\u001b[43m,\u001b[49m\u001b[43m \u001b[49m\u001b[43mrenderer\u001b[49m\u001b[43m,\u001b[49m\u001b[43m \u001b[49m\u001b[38;5;241;43m*\u001b[39;49m\u001b[43margs\u001b[49m\u001b[43m,\u001b[49m\u001b[43m \u001b[49m\u001b[38;5;241;43m*\u001b[39;49m\u001b[38;5;241;43m*\u001b[39;49m\u001b[43mkwargs\u001b[49m\u001b[43m)\u001b[49m\n\u001b[1;32m     74\u001b[0m     \u001b[38;5;28;01mif\u001b[39;00m renderer\u001b[38;5;241m.\u001b[39m_rasterizing:\n\u001b[1;32m     75\u001b[0m         renderer\u001b[38;5;241m.\u001b[39mstop_rasterizing()\n",
      "File \u001b[0;32m/usr/local/anaconda/3.9/lib/python3.9/site-packages/matplotlib/artist.py:50\u001b[0m, in \u001b[0;36mallow_rasterization.<locals>.draw_wrapper\u001b[0;34m(artist, renderer)\u001b[0m\n\u001b[1;32m     47\u001b[0m     \u001b[38;5;28;01mif\u001b[39;00m artist\u001b[38;5;241m.\u001b[39mget_agg_filter() \u001b[38;5;129;01mis\u001b[39;00m \u001b[38;5;129;01mnot\u001b[39;00m \u001b[38;5;28;01mNone\u001b[39;00m:\n\u001b[1;32m     48\u001b[0m         renderer\u001b[38;5;241m.\u001b[39mstart_filter()\n\u001b[0;32m---> 50\u001b[0m     \u001b[38;5;28;01mreturn\u001b[39;00m \u001b[43mdraw\u001b[49m\u001b[43m(\u001b[49m\u001b[43martist\u001b[49m\u001b[43m,\u001b[49m\u001b[43m \u001b[49m\u001b[43mrenderer\u001b[49m\u001b[43m)\u001b[49m\n\u001b[1;32m     51\u001b[0m \u001b[38;5;28;01mfinally\u001b[39;00m:\n\u001b[1;32m     52\u001b[0m     \u001b[38;5;28;01mif\u001b[39;00m artist\u001b[38;5;241m.\u001b[39mget_agg_filter() \u001b[38;5;129;01mis\u001b[39;00m \u001b[38;5;129;01mnot\u001b[39;00m \u001b[38;5;28;01mNone\u001b[39;00m:\n",
      "File \u001b[0;32m/usr/local/anaconda/3.9/lib/python3.9/site-packages/matplotlib/figure.py:2810\u001b[0m, in \u001b[0;36mFigure.draw\u001b[0;34m(self, renderer)\u001b[0m\n\u001b[1;32m   2807\u001b[0m         \u001b[38;5;66;03m# ValueError can occur when resizing a window.\u001b[39;00m\n\u001b[1;32m   2809\u001b[0m \u001b[38;5;28mself\u001b[39m\u001b[38;5;241m.\u001b[39mpatch\u001b[38;5;241m.\u001b[39mdraw(renderer)\n\u001b[0;32m-> 2810\u001b[0m \u001b[43mmimage\u001b[49m\u001b[38;5;241;43m.\u001b[39;49m\u001b[43m_draw_list_compositing_images\u001b[49m\u001b[43m(\u001b[49m\n\u001b[1;32m   2811\u001b[0m \u001b[43m    \u001b[49m\u001b[43mrenderer\u001b[49m\u001b[43m,\u001b[49m\u001b[43m \u001b[49m\u001b[38;5;28;43mself\u001b[39;49m\u001b[43m,\u001b[49m\u001b[43m \u001b[49m\u001b[43martists\u001b[49m\u001b[43m,\u001b[49m\u001b[43m \u001b[49m\u001b[38;5;28;43mself\u001b[39;49m\u001b[38;5;241;43m.\u001b[39;49m\u001b[43msuppressComposite\u001b[49m\u001b[43m)\u001b[49m\n\u001b[1;32m   2813\u001b[0m \u001b[38;5;28;01mfor\u001b[39;00m sfig \u001b[38;5;129;01min\u001b[39;00m \u001b[38;5;28mself\u001b[39m\u001b[38;5;241m.\u001b[39msubfigs:\n\u001b[1;32m   2814\u001b[0m     sfig\u001b[38;5;241m.\u001b[39mdraw(renderer)\n",
      "File \u001b[0;32m/usr/local/anaconda/3.9/lib/python3.9/site-packages/matplotlib/image.py:132\u001b[0m, in \u001b[0;36m_draw_list_compositing_images\u001b[0;34m(renderer, parent, artists, suppress_composite)\u001b[0m\n\u001b[1;32m    130\u001b[0m \u001b[38;5;28;01mif\u001b[39;00m not_composite \u001b[38;5;129;01mor\u001b[39;00m \u001b[38;5;129;01mnot\u001b[39;00m has_images:\n\u001b[1;32m    131\u001b[0m     \u001b[38;5;28;01mfor\u001b[39;00m a \u001b[38;5;129;01min\u001b[39;00m artists:\n\u001b[0;32m--> 132\u001b[0m         \u001b[43ma\u001b[49m\u001b[38;5;241;43m.\u001b[39;49m\u001b[43mdraw\u001b[49m\u001b[43m(\u001b[49m\u001b[43mrenderer\u001b[49m\u001b[43m)\u001b[49m\n\u001b[1;32m    133\u001b[0m \u001b[38;5;28;01melse\u001b[39;00m:\n\u001b[1;32m    134\u001b[0m     \u001b[38;5;66;03m# Composite any adjacent images together\u001b[39;00m\n\u001b[1;32m    135\u001b[0m     image_group \u001b[38;5;241m=\u001b[39m []\n",
      "File \u001b[0;32m/usr/local/anaconda/3.9/lib/python3.9/site-packages/matplotlib/artist.py:50\u001b[0m, in \u001b[0;36mallow_rasterization.<locals>.draw_wrapper\u001b[0;34m(artist, renderer)\u001b[0m\n\u001b[1;32m     47\u001b[0m     \u001b[38;5;28;01mif\u001b[39;00m artist\u001b[38;5;241m.\u001b[39mget_agg_filter() \u001b[38;5;129;01mis\u001b[39;00m \u001b[38;5;129;01mnot\u001b[39;00m \u001b[38;5;28;01mNone\u001b[39;00m:\n\u001b[1;32m     48\u001b[0m         renderer\u001b[38;5;241m.\u001b[39mstart_filter()\n\u001b[0;32m---> 50\u001b[0m     \u001b[38;5;28;01mreturn\u001b[39;00m \u001b[43mdraw\u001b[49m\u001b[43m(\u001b[49m\u001b[43martist\u001b[49m\u001b[43m,\u001b[49m\u001b[43m \u001b[49m\u001b[43mrenderer\u001b[49m\u001b[43m)\u001b[49m\n\u001b[1;32m     51\u001b[0m \u001b[38;5;28;01mfinally\u001b[39;00m:\n\u001b[1;32m     52\u001b[0m     \u001b[38;5;28;01mif\u001b[39;00m artist\u001b[38;5;241m.\u001b[39mget_agg_filter() \u001b[38;5;129;01mis\u001b[39;00m \u001b[38;5;129;01mnot\u001b[39;00m \u001b[38;5;28;01mNone\u001b[39;00m:\n",
      "File \u001b[0;32m/usr/local/anaconda/3.9/lib/python3.9/site-packages/matplotlib/axes/_base.py:3082\u001b[0m, in \u001b[0;36m_AxesBase.draw\u001b[0;34m(self, renderer)\u001b[0m\n\u001b[1;32m   3079\u001b[0m         a\u001b[38;5;241m.\u001b[39mdraw(renderer)\n\u001b[1;32m   3080\u001b[0m     renderer\u001b[38;5;241m.\u001b[39mstop_rasterizing()\n\u001b[0;32m-> 3082\u001b[0m \u001b[43mmimage\u001b[49m\u001b[38;5;241;43m.\u001b[39;49m\u001b[43m_draw_list_compositing_images\u001b[49m\u001b[43m(\u001b[49m\n\u001b[1;32m   3083\u001b[0m \u001b[43m    \u001b[49m\u001b[43mrenderer\u001b[49m\u001b[43m,\u001b[49m\u001b[43m \u001b[49m\u001b[38;5;28;43mself\u001b[39;49m\u001b[43m,\u001b[49m\u001b[43m \u001b[49m\u001b[43martists\u001b[49m\u001b[43m,\u001b[49m\u001b[43m \u001b[49m\u001b[38;5;28;43mself\u001b[39;49m\u001b[38;5;241;43m.\u001b[39;49m\u001b[43mfigure\u001b[49m\u001b[38;5;241;43m.\u001b[39;49m\u001b[43msuppressComposite\u001b[49m\u001b[43m)\u001b[49m\n\u001b[1;32m   3085\u001b[0m renderer\u001b[38;5;241m.\u001b[39mclose_group(\u001b[38;5;124m'\u001b[39m\u001b[38;5;124maxes\u001b[39m\u001b[38;5;124m'\u001b[39m)\n\u001b[1;32m   3086\u001b[0m \u001b[38;5;28mself\u001b[39m\u001b[38;5;241m.\u001b[39mstale \u001b[38;5;241m=\u001b[39m \u001b[38;5;28;01mFalse\u001b[39;00m\n",
      "File \u001b[0;32m/usr/local/anaconda/3.9/lib/python3.9/site-packages/matplotlib/image.py:132\u001b[0m, in \u001b[0;36m_draw_list_compositing_images\u001b[0;34m(renderer, parent, artists, suppress_composite)\u001b[0m\n\u001b[1;32m    130\u001b[0m \u001b[38;5;28;01mif\u001b[39;00m not_composite \u001b[38;5;129;01mor\u001b[39;00m \u001b[38;5;129;01mnot\u001b[39;00m has_images:\n\u001b[1;32m    131\u001b[0m     \u001b[38;5;28;01mfor\u001b[39;00m a \u001b[38;5;129;01min\u001b[39;00m artists:\n\u001b[0;32m--> 132\u001b[0m         \u001b[43ma\u001b[49m\u001b[38;5;241;43m.\u001b[39;49m\u001b[43mdraw\u001b[49m\u001b[43m(\u001b[49m\u001b[43mrenderer\u001b[49m\u001b[43m)\u001b[49m\n\u001b[1;32m    133\u001b[0m \u001b[38;5;28;01melse\u001b[39;00m:\n\u001b[1;32m    134\u001b[0m     \u001b[38;5;66;03m# Composite any adjacent images together\u001b[39;00m\n\u001b[1;32m    135\u001b[0m     image_group \u001b[38;5;241m=\u001b[39m []\n",
      "File \u001b[0;32m/usr/local/anaconda/3.9/lib/python3.9/site-packages/matplotlib/artist.py:50\u001b[0m, in \u001b[0;36mallow_rasterization.<locals>.draw_wrapper\u001b[0;34m(artist, renderer)\u001b[0m\n\u001b[1;32m     47\u001b[0m     \u001b[38;5;28;01mif\u001b[39;00m artist\u001b[38;5;241m.\u001b[39mget_agg_filter() \u001b[38;5;129;01mis\u001b[39;00m \u001b[38;5;129;01mnot\u001b[39;00m \u001b[38;5;28;01mNone\u001b[39;00m:\n\u001b[1;32m     48\u001b[0m         renderer\u001b[38;5;241m.\u001b[39mstart_filter()\n\u001b[0;32m---> 50\u001b[0m     \u001b[38;5;28;01mreturn\u001b[39;00m \u001b[43mdraw\u001b[49m\u001b[43m(\u001b[49m\u001b[43martist\u001b[49m\u001b[43m,\u001b[49m\u001b[43m \u001b[49m\u001b[43mrenderer\u001b[49m\u001b[43m)\u001b[49m\n\u001b[1;32m     51\u001b[0m \u001b[38;5;28;01mfinally\u001b[39;00m:\n\u001b[1;32m     52\u001b[0m     \u001b[38;5;28;01mif\u001b[39;00m artist\u001b[38;5;241m.\u001b[39mget_agg_filter() \u001b[38;5;129;01mis\u001b[39;00m \u001b[38;5;129;01mnot\u001b[39;00m \u001b[38;5;28;01mNone\u001b[39;00m:\n",
      "File \u001b[0;32m/usr/local/anaconda/3.9/lib/python3.9/site-packages/matplotlib/axis.py:1159\u001b[0m, in \u001b[0;36mAxis.draw\u001b[0;34m(self, renderer, *args, **kwargs)\u001b[0m\n\u001b[1;32m   1156\u001b[0m renderer\u001b[38;5;241m.\u001b[39mopen_group(\u001b[38;5;18m__name__\u001b[39m, gid\u001b[38;5;241m=\u001b[39m\u001b[38;5;28mself\u001b[39m\u001b[38;5;241m.\u001b[39mget_gid())\n\u001b[1;32m   1158\u001b[0m ticks_to_draw \u001b[38;5;241m=\u001b[39m \u001b[38;5;28mself\u001b[39m\u001b[38;5;241m.\u001b[39m_update_ticks()\n\u001b[0;32m-> 1159\u001b[0m ticklabelBoxes, ticklabelBoxes2 \u001b[38;5;241m=\u001b[39m \u001b[38;5;28;43mself\u001b[39;49m\u001b[38;5;241;43m.\u001b[39;49m\u001b[43m_get_tick_bboxes\u001b[49m\u001b[43m(\u001b[49m\u001b[43mticks_to_draw\u001b[49m\u001b[43m,\u001b[49m\n\u001b[1;32m   1160\u001b[0m \u001b[43m                                                        \u001b[49m\u001b[43mrenderer\u001b[49m\u001b[43m)\u001b[49m\n\u001b[1;32m   1162\u001b[0m \u001b[38;5;28;01mfor\u001b[39;00m tick \u001b[38;5;129;01min\u001b[39;00m ticks_to_draw:\n\u001b[1;32m   1163\u001b[0m     tick\u001b[38;5;241m.\u001b[39mdraw(renderer)\n",
      "File \u001b[0;32m/usr/local/anaconda/3.9/lib/python3.9/site-packages/matplotlib/axis.py:1085\u001b[0m, in \u001b[0;36mAxis._get_tick_bboxes\u001b[0;34m(self, ticks, renderer)\u001b[0m\n\u001b[1;32m   1083\u001b[0m \u001b[38;5;28;01mdef\u001b[39;00m \u001b[38;5;21m_get_tick_bboxes\u001b[39m(\u001b[38;5;28mself\u001b[39m, ticks, renderer):\n\u001b[1;32m   1084\u001b[0m     \u001b[38;5;124;03m\"\"\"Return lists of bboxes for ticks' label1's and label2's.\"\"\"\u001b[39;00m\n\u001b[0;32m-> 1085\u001b[0m     \u001b[38;5;28;01mreturn\u001b[39;00m ([tick\u001b[38;5;241m.\u001b[39mlabel1\u001b[38;5;241m.\u001b[39mget_window_extent(renderer)\n\u001b[1;32m   1086\u001b[0m              \u001b[38;5;28;01mfor\u001b[39;00m tick \u001b[38;5;129;01min\u001b[39;00m ticks \u001b[38;5;28;01mif\u001b[39;00m tick\u001b[38;5;241m.\u001b[39mlabel1\u001b[38;5;241m.\u001b[39mget_visible()],\n\u001b[1;32m   1087\u001b[0m             [tick\u001b[38;5;241m.\u001b[39mlabel2\u001b[38;5;241m.\u001b[39mget_window_extent(renderer)\n\u001b[1;32m   1088\u001b[0m              \u001b[38;5;28;01mfor\u001b[39;00m tick \u001b[38;5;129;01min\u001b[39;00m ticks \u001b[38;5;28;01mif\u001b[39;00m tick\u001b[38;5;241m.\u001b[39mlabel2\u001b[38;5;241m.\u001b[39mget_visible()])\n",
      "File \u001b[0;32m/usr/local/anaconda/3.9/lib/python3.9/site-packages/matplotlib/axis.py:1085\u001b[0m, in \u001b[0;36m<listcomp>\u001b[0;34m(.0)\u001b[0m\n\u001b[1;32m   1083\u001b[0m \u001b[38;5;28;01mdef\u001b[39;00m \u001b[38;5;21m_get_tick_bboxes\u001b[39m(\u001b[38;5;28mself\u001b[39m, ticks, renderer):\n\u001b[1;32m   1084\u001b[0m     \u001b[38;5;124;03m\"\"\"Return lists of bboxes for ticks' label1's and label2's.\"\"\"\u001b[39;00m\n\u001b[0;32m-> 1085\u001b[0m     \u001b[38;5;28;01mreturn\u001b[39;00m ([\u001b[43mtick\u001b[49m\u001b[38;5;241;43m.\u001b[39;49m\u001b[43mlabel1\u001b[49m\u001b[38;5;241;43m.\u001b[39;49m\u001b[43mget_window_extent\u001b[49m\u001b[43m(\u001b[49m\u001b[43mrenderer\u001b[49m\u001b[43m)\u001b[49m\n\u001b[1;32m   1086\u001b[0m              \u001b[38;5;28;01mfor\u001b[39;00m tick \u001b[38;5;129;01min\u001b[39;00m ticks \u001b[38;5;28;01mif\u001b[39;00m tick\u001b[38;5;241m.\u001b[39mlabel1\u001b[38;5;241m.\u001b[39mget_visible()],\n\u001b[1;32m   1087\u001b[0m             [tick\u001b[38;5;241m.\u001b[39mlabel2\u001b[38;5;241m.\u001b[39mget_window_extent(renderer)\n\u001b[1;32m   1088\u001b[0m              \u001b[38;5;28;01mfor\u001b[39;00m tick \u001b[38;5;129;01min\u001b[39;00m ticks \u001b[38;5;28;01mif\u001b[39;00m tick\u001b[38;5;241m.\u001b[39mlabel2\u001b[38;5;241m.\u001b[39mget_visible()])\n",
      "File \u001b[0;32m/usr/local/anaconda/3.9/lib/python3.9/site-packages/matplotlib/text.py:910\u001b[0m, in \u001b[0;36mText.get_window_extent\u001b[0;34m(self, renderer, dpi)\u001b[0m\n\u001b[1;32m    907\u001b[0m     \u001b[38;5;28;01mraise\u001b[39;00m \u001b[38;5;167;01mRuntimeError\u001b[39;00m(\u001b[38;5;124m'\u001b[39m\u001b[38;5;124mCannot get window extent w/o renderer\u001b[39m\u001b[38;5;124m'\u001b[39m)\n\u001b[1;32m    909\u001b[0m \u001b[38;5;28;01mwith\u001b[39;00m cbook\u001b[38;5;241m.\u001b[39m_setattr_cm(\u001b[38;5;28mself\u001b[39m\u001b[38;5;241m.\u001b[39mfigure, dpi\u001b[38;5;241m=\u001b[39mdpi):\n\u001b[0;32m--> 910\u001b[0m     bbox, info, descent \u001b[38;5;241m=\u001b[39m \u001b[38;5;28;43mself\u001b[39;49m\u001b[38;5;241;43m.\u001b[39;49m\u001b[43m_get_layout\u001b[49m\u001b[43m(\u001b[49m\u001b[38;5;28;43mself\u001b[39;49m\u001b[38;5;241;43m.\u001b[39;49m\u001b[43m_renderer\u001b[49m\u001b[43m)\u001b[49m\n\u001b[1;32m    911\u001b[0m     x, y \u001b[38;5;241m=\u001b[39m \u001b[38;5;28mself\u001b[39m\u001b[38;5;241m.\u001b[39mget_unitless_position()\n\u001b[1;32m    912\u001b[0m     x, y \u001b[38;5;241m=\u001b[39m \u001b[38;5;28mself\u001b[39m\u001b[38;5;241m.\u001b[39mget_transform()\u001b[38;5;241m.\u001b[39mtransform((x, y))\n",
      "File \u001b[0;32m/usr/local/anaconda/3.9/lib/python3.9/site-packages/matplotlib/text.py:309\u001b[0m, in \u001b[0;36mText._get_layout\u001b[0;34m(self, renderer)\u001b[0m\n\u001b[1;32m    306\u001b[0m ys \u001b[38;5;241m=\u001b[39m []\n\u001b[1;32m    308\u001b[0m \u001b[38;5;66;03m# Full vertical extent of font, including ascenders and descenders:\u001b[39;00m\n\u001b[0;32m--> 309\u001b[0m _, lp_h, lp_d \u001b[38;5;241m=\u001b[39m \u001b[43mrenderer\u001b[49m\u001b[38;5;241;43m.\u001b[39;49m\u001b[43mget_text_width_height_descent\u001b[49m\u001b[43m(\u001b[49m\n\u001b[1;32m    310\u001b[0m \u001b[43m    \u001b[49m\u001b[38;5;124;43m\"\u001b[39;49m\u001b[38;5;124;43mlp\u001b[39;49m\u001b[38;5;124;43m\"\u001b[39;49m\u001b[43m,\u001b[49m\u001b[43m \u001b[49m\u001b[38;5;28;43mself\u001b[39;49m\u001b[38;5;241;43m.\u001b[39;49m\u001b[43m_fontproperties\u001b[49m\u001b[43m,\u001b[49m\n\u001b[1;32m    311\u001b[0m \u001b[43m    \u001b[49m\u001b[43mismath\u001b[49m\u001b[38;5;241;43m=\u001b[39;49m\u001b[38;5;124;43m\"\u001b[39;49m\u001b[38;5;124;43mTeX\u001b[39;49m\u001b[38;5;124;43m\"\u001b[39;49m\u001b[43m \u001b[49m\u001b[38;5;28;43;01mif\u001b[39;49;00m\u001b[43m \u001b[49m\u001b[38;5;28;43mself\u001b[39;49m\u001b[38;5;241;43m.\u001b[39;49m\u001b[43mget_usetex\u001b[49m\u001b[43m(\u001b[49m\u001b[43m)\u001b[49m\u001b[43m \u001b[49m\u001b[38;5;28;43;01melse\u001b[39;49;00m\u001b[43m \u001b[49m\u001b[38;5;28;43;01mFalse\u001b[39;49;00m\u001b[43m)\u001b[49m\n\u001b[1;32m    312\u001b[0m min_dy \u001b[38;5;241m=\u001b[39m (lp_h \u001b[38;5;241m-\u001b[39m lp_d) \u001b[38;5;241m*\u001b[39m \u001b[38;5;28mself\u001b[39m\u001b[38;5;241m.\u001b[39m_linespacing\n\u001b[1;32m    314\u001b[0m \u001b[38;5;28;01mfor\u001b[39;00m i, line \u001b[38;5;129;01min\u001b[39;00m \u001b[38;5;28menumerate\u001b[39m(lines):\n",
      "File \u001b[0;32m/usr/local/anaconda/3.9/lib/python3.9/site-packages/matplotlib/backends/backend_agg.py:259\u001b[0m, in \u001b[0;36mRendererAgg.get_text_width_height_descent\u001b[0;34m(self, s, prop, ismath)\u001b[0m\n\u001b[1;32m    257\u001b[0m     texmanager \u001b[38;5;241m=\u001b[39m \u001b[38;5;28mself\u001b[39m\u001b[38;5;241m.\u001b[39mget_texmanager()\n\u001b[1;32m    258\u001b[0m     fontsize \u001b[38;5;241m=\u001b[39m prop\u001b[38;5;241m.\u001b[39mget_size_in_points()\n\u001b[0;32m--> 259\u001b[0m     w, h, d \u001b[38;5;241m=\u001b[39m \u001b[43mtexmanager\u001b[49m\u001b[38;5;241;43m.\u001b[39;49m\u001b[43mget_text_width_height_descent\u001b[49m\u001b[43m(\u001b[49m\n\u001b[1;32m    260\u001b[0m \u001b[43m        \u001b[49m\u001b[43ms\u001b[49m\u001b[43m,\u001b[49m\u001b[43m \u001b[49m\u001b[43mfontsize\u001b[49m\u001b[43m,\u001b[49m\u001b[43m \u001b[49m\u001b[43mrenderer\u001b[49m\u001b[38;5;241;43m=\u001b[39;49m\u001b[38;5;28;43mself\u001b[39;49m\u001b[43m)\u001b[49m\n\u001b[1;32m    261\u001b[0m     \u001b[38;5;28;01mreturn\u001b[39;00m w, h, d\n\u001b[1;32m    263\u001b[0m \u001b[38;5;28;01mif\u001b[39;00m ismath:\n",
      "File \u001b[0;32m/usr/local/anaconda/3.9/lib/python3.9/site-packages/matplotlib/texmanager.py:335\u001b[0m, in \u001b[0;36mTexManager.get_text_width_height_descent\u001b[0;34m(self, tex, fontsize, renderer)\u001b[0m\n\u001b[1;32m    333\u001b[0m \u001b[38;5;28;01mif\u001b[39;00m tex\u001b[38;5;241m.\u001b[39mstrip() \u001b[38;5;241m==\u001b[39m \u001b[38;5;124m'\u001b[39m\u001b[38;5;124m'\u001b[39m:\n\u001b[1;32m    334\u001b[0m     \u001b[38;5;28;01mreturn\u001b[39;00m \u001b[38;5;241m0\u001b[39m, \u001b[38;5;241m0\u001b[39m, \u001b[38;5;241m0\u001b[39m\n\u001b[0;32m--> 335\u001b[0m dvifile \u001b[38;5;241m=\u001b[39m \u001b[38;5;28;43mself\u001b[39;49m\u001b[38;5;241;43m.\u001b[39;49m\u001b[43mmake_dvi\u001b[49m\u001b[43m(\u001b[49m\u001b[43mtex\u001b[49m\u001b[43m,\u001b[49m\u001b[43m \u001b[49m\u001b[43mfontsize\u001b[49m\u001b[43m)\u001b[49m\n\u001b[1;32m    336\u001b[0m dpi_fraction \u001b[38;5;241m=\u001b[39m renderer\u001b[38;5;241m.\u001b[39mpoints_to_pixels(\u001b[38;5;241m1.\u001b[39m) \u001b[38;5;28;01mif\u001b[39;00m renderer \u001b[38;5;28;01melse\u001b[39;00m \u001b[38;5;241m1\u001b[39m\n\u001b[1;32m    337\u001b[0m \u001b[38;5;28;01mwith\u001b[39;00m dviread\u001b[38;5;241m.\u001b[39mDvi(dvifile, \u001b[38;5;241m72\u001b[39m \u001b[38;5;241m*\u001b[39m dpi_fraction) \u001b[38;5;28;01mas\u001b[39;00m dvi:\n",
      "File \u001b[0;32m/usr/local/anaconda/3.9/lib/python3.9/site-packages/matplotlib/texmanager.py:271\u001b[0m, in \u001b[0;36mTexManager.make_dvi\u001b[0;34m(self, tex, fontsize)\u001b[0m\n\u001b[1;32m    262\u001b[0m     \u001b[38;5;66;03m# Generate the dvi in a temporary directory to avoid race\u001b[39;00m\n\u001b[1;32m    263\u001b[0m     \u001b[38;5;66;03m# conditions e.g. if multiple processes try to process the same tex\u001b[39;00m\n\u001b[1;32m    264\u001b[0m     \u001b[38;5;66;03m# string at the same time.  Having tmpdir be a subdirectory of the\u001b[39;00m\n\u001b[0;32m   (...)\u001b[0m\n\u001b[1;32m    268\u001b[0m     \u001b[38;5;66;03m# the absolute path may contain characters (e.g. ~) that TeX does\u001b[39;00m\n\u001b[1;32m    269\u001b[0m     \u001b[38;5;66;03m# not support.)\u001b[39;00m\n\u001b[1;32m    270\u001b[0m     \u001b[38;5;28;01mwith\u001b[39;00m TemporaryDirectory(\u001b[38;5;28mdir\u001b[39m\u001b[38;5;241m=\u001b[39mPath(dvifile)\u001b[38;5;241m.\u001b[39mparent) \u001b[38;5;28;01mas\u001b[39;00m tmpdir:\n\u001b[0;32m--> 271\u001b[0m         \u001b[38;5;28;43mself\u001b[39;49m\u001b[38;5;241;43m.\u001b[39;49m\u001b[43m_run_checked_subprocess\u001b[49m\u001b[43m(\u001b[49m\n\u001b[1;32m    272\u001b[0m \u001b[43m            \u001b[49m\u001b[43m[\u001b[49m\u001b[38;5;124;43m\"\u001b[39;49m\u001b[38;5;124;43mlatex\u001b[39;49m\u001b[38;5;124;43m\"\u001b[39;49m\u001b[43m,\u001b[49m\u001b[43m \u001b[49m\u001b[38;5;124;43m\"\u001b[39;49m\u001b[38;5;124;43m-interaction=nonstopmode\u001b[39;49m\u001b[38;5;124;43m\"\u001b[39;49m\u001b[43m,\u001b[49m\u001b[43m \u001b[49m\u001b[38;5;124;43m\"\u001b[39;49m\u001b[38;5;124;43m--halt-on-error\u001b[39;49m\u001b[38;5;124;43m\"\u001b[39;49m\u001b[43m,\u001b[49m\n\u001b[1;32m    273\u001b[0m \u001b[43m             \u001b[49m\u001b[38;5;124;43mf\u001b[39;49m\u001b[38;5;124;43m\"\u001b[39;49m\u001b[38;5;124;43m../\u001b[39;49m\u001b[38;5;132;43;01m{\u001b[39;49;00m\u001b[43mtexfile\u001b[49m\u001b[38;5;241;43m.\u001b[39;49m\u001b[43mname\u001b[49m\u001b[38;5;132;43;01m}\u001b[39;49;00m\u001b[38;5;124;43m\"\u001b[39;49m\u001b[43m]\u001b[49m\u001b[43m,\u001b[49m\u001b[43m \u001b[49m\u001b[43mtex\u001b[49m\u001b[43m,\u001b[49m\u001b[43m \u001b[49m\u001b[43mcwd\u001b[49m\u001b[38;5;241;43m=\u001b[39;49m\u001b[43mtmpdir\u001b[49m\u001b[43m)\u001b[49m\n\u001b[1;32m    274\u001b[0m         (Path(tmpdir) \u001b[38;5;241m/\u001b[39m Path(dvifile)\u001b[38;5;241m.\u001b[39mname)\u001b[38;5;241m.\u001b[39mreplace(dvifile)\n\u001b[1;32m    275\u001b[0m \u001b[38;5;28;01mreturn\u001b[39;00m dvifile\n",
      "File \u001b[0;32m/usr/local/anaconda/3.9/lib/python3.9/site-packages/matplotlib/texmanager.py:241\u001b[0m, in \u001b[0;36mTexManager._run_checked_subprocess\u001b[0;34m(self, command, tex, cwd)\u001b[0m\n\u001b[1;32m    237\u001b[0m     \u001b[38;5;28;01mraise\u001b[39;00m \u001b[38;5;167;01mRuntimeError\u001b[39;00m(\n\u001b[1;32m    238\u001b[0m         \u001b[38;5;124m'\u001b[39m\u001b[38;5;124mFailed to process string with tex because \u001b[39m\u001b[38;5;132;01m{}\u001b[39;00m\u001b[38;5;124m could not be \u001b[39m\u001b[38;5;124m'\u001b[39m\n\u001b[1;32m    239\u001b[0m         \u001b[38;5;124m'\u001b[39m\u001b[38;5;124mfound\u001b[39m\u001b[38;5;124m'\u001b[39m\u001b[38;5;241m.\u001b[39mformat(command[\u001b[38;5;241m0\u001b[39m])) \u001b[38;5;28;01mfrom\u001b[39;00m \u001b[38;5;21;01mexc\u001b[39;00m\n\u001b[1;32m    240\u001b[0m \u001b[38;5;28;01mexcept\u001b[39;00m subprocess\u001b[38;5;241m.\u001b[39mCalledProcessError \u001b[38;5;28;01mas\u001b[39;00m exc:\n\u001b[0;32m--> 241\u001b[0m     \u001b[38;5;28;01mraise\u001b[39;00m \u001b[38;5;167;01mRuntimeError\u001b[39;00m(\n\u001b[1;32m    242\u001b[0m         \u001b[38;5;124m'\u001b[39m\u001b[38;5;132;01m{prog}\u001b[39;00m\u001b[38;5;124m was not able to process the following string:\u001b[39m\u001b[38;5;130;01m\\n\u001b[39;00m\u001b[38;5;124m'\u001b[39m\n\u001b[1;32m    243\u001b[0m         \u001b[38;5;124m'\u001b[39m\u001b[38;5;132;01m{tex!r}\u001b[39;00m\u001b[38;5;130;01m\\n\u001b[39;00m\u001b[38;5;130;01m\\n\u001b[39;00m\u001b[38;5;124m'\u001b[39m\n\u001b[1;32m    244\u001b[0m         \u001b[38;5;124m'\u001b[39m\u001b[38;5;124mHere is the full report generated by \u001b[39m\u001b[38;5;132;01m{prog}\u001b[39;00m\u001b[38;5;124m:\u001b[39m\u001b[38;5;130;01m\\n\u001b[39;00m\u001b[38;5;124m'\u001b[39m\n\u001b[1;32m    245\u001b[0m         \u001b[38;5;124m'\u001b[39m\u001b[38;5;132;01m{exc}\u001b[39;00m\u001b[38;5;130;01m\\n\u001b[39;00m\u001b[38;5;130;01m\\n\u001b[39;00m\u001b[38;5;124m'\u001b[39m\u001b[38;5;241m.\u001b[39mformat(\n\u001b[1;32m    246\u001b[0m             prog\u001b[38;5;241m=\u001b[39mcommand[\u001b[38;5;241m0\u001b[39m],\n\u001b[1;32m    247\u001b[0m             tex\u001b[38;5;241m=\u001b[39mtex\u001b[38;5;241m.\u001b[39mencode(\u001b[38;5;124m'\u001b[39m\u001b[38;5;124municode_escape\u001b[39m\u001b[38;5;124m'\u001b[39m),\n\u001b[1;32m    248\u001b[0m             exc\u001b[38;5;241m=\u001b[39mexc\u001b[38;5;241m.\u001b[39moutput\u001b[38;5;241m.\u001b[39mdecode(\u001b[38;5;124m'\u001b[39m\u001b[38;5;124mutf-8\u001b[39m\u001b[38;5;124m'\u001b[39m))) \u001b[38;5;28;01mfrom\u001b[39;00m \u001b[38;5;21;01mexc\u001b[39;00m\n\u001b[1;32m    249\u001b[0m _log\u001b[38;5;241m.\u001b[39mdebug(report)\n\u001b[1;32m    250\u001b[0m \u001b[38;5;28;01mreturn\u001b[39;00m report\n",
      "\u001b[0;31mRuntimeError\u001b[0m: latex was not able to process the following string:\nb'lp'\n\nHere is the full report generated by latex:\nThis is pdfTeX, Version 3.141592653-2.6-1.40.22 (TeX Live 2022/dev/Debian) (preloaded format=latex)\n restricted \\write18 enabled.\nentering extended mode\n(../1acea6f6c115d0ec7a634ed0529287b9.tex\nLaTeX2e <2021-11-15> patch level 1\nL3 programming layer <2022-01-21>\n(/usr/share/texlive/texmf-dist/tex/latex/base/article.cls\nDocument Class: article 2021/10/04 v1.4n Standard LaTeX document class\n(/usr/share/texlive/texmf-dist/tex/latex/base/size10.clo))\n(/usr/share/texlive/texmf-dist/tex/latex/type1cm/type1cm.sty)\n\n! LaTeX Error: File `type1ec.sty' not found.\n\nType X to quit or <RETURN> to proceed,\nor enter new name. (Default extension: sty)\n\nEnter file name: \n! Emergency stop.\n<read *> \n         \nl.6 \\usepackage\n               [utf8]{inputenc}^^M\nNo pages of output.\nTranscript written on 1acea6f6c115d0ec7a634ed0529287b9.log.\n\n\n"
     ]
    },
    {
     "data": {
      "text/plain": [
       "<Figure size 1080x720 with 1 Axes>"
      ]
     },
     "metadata": {
      "needs_background": "light"
     },
     "output_type": "display_data"
    }
   ],
   "source": [
    "plt.plot(np.diag(cl.BK['kbin1']),np.diag(cl.BK['kbin1'])**2*np.diag(cl.BK['K']),color='k')\n",
    "for i in range(9):\n",
    "    print(i*10)\n",
    "    plt.plot(np.diag(cl.BK['kbin1']),np.diag(cl.BK['kbin1'])**2*cl.BK['K'][i*10+10],color=cm.cool(i/10.0))\n",
    "plt.xlabel(r'$k^2$')"
   ]
  },
  {
   "cell_type": "code",
   "execution_count": 13,
   "id": "1c94b2d6",
   "metadata": {},
   "outputs": [
    {
     "data": {
      "text/plain": [
       "<matplotlib.image.AxesImage at 0x7fcb0b876520>"
      ]
     },
     "execution_count": 13,
     "metadata": {},
     "output_type": "execute_result"
    },
    {
     "data": {
      "image/png": "[encoded data removed]",
      "text/plain": [
       "<Figure size 720x720 with 1 Axes>"
      ]
     },
     "metadata": {
      "needs_background": "light"
     },
     "output_type": "display_data"
    }
   ],
   "source": [
    "plt.matshow(cl.BK['K'])"
   ]
  },
  {
   "cell_type": "code",
   "execution_count": 10,
   "id": "8a71cec3",
   "metadata": {},
   "outputs": [
    {
     "name": "stdout",
     "output_type": "stream",
     "text": [
      "k1 =  0.001 h/Mpc\n",
      "k1 =  0.001130064585810758 h/Mpc\n",
      "k1 =  0.0012770459681036414 h/Mpc\n",
      "k1 =  0.00144314442300634 h/Mpc\n",
      "k1 =  0.0016308464046497666 h/Mpc\n",
      "k1 =  0.0018429617667915024 h/Mpc\n",
      "k1 =  0.002082665825654304 h/Mpc\n",
      "k1 =  0.0023535468936502517 h/Mpc\n",
      "k1 =  0.00265965999555907 h/Mpc\n",
      "k1 =  0.003005587571278903 h/Mpc\n",
      "k1 =  0.0033965080738552595 h/Mpc\n",
      "k1 =  0.0038382734896841393 h/Mpc\n",
      "k1 =  0.004337496941348324 h/Mpc\n",
      "k1 =  0.004901651684480223 h/Mpc\n",
      "k1 =  0.005539182980610753 h/Mpc\n",
      "k1 =  0.006259634520713891 h/Mpc\n",
      "k1 =  0.007073791291977273 h/Mpc\n",
      "k1 =  0.007993841026480045 h/Mpc\n",
      "k1 =  0.009033556648626226 h/Mpc\n",
      "k1 =  0.010208502452527815 h/Mpc\n",
      "k1 =  0.011536267095763959 h/Mpc\n",
      "k1 =  0.01303672689737678 h/Mpc\n",
      "k1 =  0.014732343381612067 h/Mpc\n",
      "k1 =  0.01664849952156331 h/Mpc\n",
      "k1 =  0.018813879716206055 h/Mpc\n",
      "k1 =  0.02126089918898783 h/Mpc\n",
      "k1 =  0.024026189235967825 h/Mpc\n",
      "k1 =  0.027151145587554885 h/Mpc\n",
      "k1 =  0.030682548092687816 h/Mpc\n",
      "k1 =  0.03467326100198194 h/Mpc\n",
      "k1 =  0.03918302433291305 h/Mpc\n",
      "k1 =  0.04427934816358626 h/Mpc\n",
      "k1 =  0.05003852324245348 h/Mpc\n",
      "k1 =  0.05654676304256521 h/Mpc\n",
      "k1 =  0.06390149435663557 h/Mpc\n",
      "k1 =  0.0722128157528199 h/Mpc\n",
      "k1 =  0.08160514572393904 h/Mpc\n",
      "k1 =  0.09221908520254977 h/Mpc\n",
      "k1 =  0.1042135223232664 h/Mpc\n",
      "k1 =  0.11776801094012236 h/Mpc\n",
      "k1 =  0.1330854585048062 h/Mpc\n",
      "k1 =  0.1503951635426688 h/Mpc\n",
      "k1 =  0.1699562481967872 h/Mpc\n",
      "k1 =  0.19206153722445293 h/Mpc\n",
      "k1 =  0.21704194151372888 h/Mpc\n",
      "k1 =  0.24527141174027503 h/Mpc\n",
      "k1 =  0.2771725363194938 h/Mpc\n"
     ]
    },
    {
     "name": "stderr",
     "output_type": "stream",
     "text": [
      "Exception ignored on calling ctypes callback function: <bound method ComputePowerBiSpectrum.Integrand_B of <powerbispectrum.ComputePowerBiSpectrum object at 0x7fd30455feb0>>\n",
      "Traceback (most recent call last):\n",
      "  File \"/home/rneveux/bispectrum/theory/powerbispectrum.py\", line 709, in Integrand_B\n",
      "    hitomipy.integrand_B_FoG_Damping_diag_py(\n",
      "KeyboardInterrupt: \n"
     ]
    },
    {
     "name": "stdout",
     "output_type": "stream",
     "text": [
      "k1 =  0.31322286745400635 h/Mpc\n",
      "k1 =  0.35396206997586965 h/Mpc\n",
      "k1 =  0.4 h/Mpc\n"
     ]
    }
   ],
   "source": [
    "ell1 = 1\n",
    "ell2 = 1\n",
    "ELL = 0\n",
    "cl.calc_B(\n",
    "        kbin, ell1, ell2, ELL,\n",
    "        alpha_perp=1, alpha_parallel=1, b1=2.2, b2=-.6, bG2=-.3, c1=0, c2=0, knl=.3,\n",
    "        Pshot=0, Bshot=0,\n",
    "        integrand='tree',\n",
    "        ks=.05,\n",
    "    )"
   ]
  },
  {
   "cell_type": "code",
   "execution_count": 11,
   "id": "1feb9a9a",
   "metadata": {},
   "outputs": [
    {
     "data": {
      "text/plain": [
       "<ErrorbarContainer object of 3 artists>"
      ]
     },
     "execution_count": 11,
     "metadata": {},
     "output_type": "execute_result"
    },
    {
     "data": {
      "image/png": "[encoded data removed]",
      "text/plain": [
       "<Figure size 1080x720 with 1 Axes>"
      ]
     },
     "metadata": {
      "needs_background": "light"
     },
     "output_type": "display_data"
    }
   ],
   "source": [
    "plt.plot(np.diag(cl.BK['kbin1']),np.diag(cl.BK['kbin1'])**2*np.diag(cl.BK['K']))\n",
    "plt.errorbar(bk_meas110_real[:,0],bk_meas110_real[:,0]**2*bk_meas110_real[:,1],bk_meas110_real[:,0]**2*bk_meas110_real[:,2])"
   ]
  },
  {
   "cell_type": "code",
   "execution_count": 12,
   "id": "c46b0f83",
   "metadata": {},
   "outputs": [
    {
     "name": "stdout",
     "output_type": "stream",
     "text": [
      "k1 =  0.001 h/Mpc\n",
      "k1 =  0.001130064585810758 h/Mpc\n",
      "k1 =  0.0012770459681036414 h/Mpc\n",
      "k1 =  0.00144314442300634 h/Mpc\n",
      "k1 =  0.0016308464046497666 h/Mpc\n",
      "k1 =  0.0018429617667915024 h/Mpc\n",
      "k1 =  0.002082665825654304 h/Mpc\n",
      "k1 =  0.0023535468936502517 h/Mpc\n",
      "k1 =  0.00265965999555907 h/Mpc\n",
      "k1 =  0.003005587571278903 h/Mpc\n",
      "k1 =  0.0033965080738552595 h/Mpc\n",
      "k1 =  0.0038382734896841393 h/Mpc\n",
      "k1 =  0.004337496941348324 h/Mpc\n",
      "k1 =  0.004901651684480223 h/Mpc\n",
      "k1 =  0.005539182980610753 h/Mpc\n",
      "k1 =  0.006259634520713891 h/Mpc\n",
      "k1 =  0.007073791291977273 h/Mpc\n",
      "k1 =  0.007993841026480045 h/Mpc\n",
      "k1 =  0.009033556648626226 h/Mpc\n",
      "k1 =  0.010208502452527815 h/Mpc\n",
      "k1 =  0.011536267095763959 h/Mpc\n",
      "k1 =  0.01303672689737678 h/Mpc\n",
      "k1 =  0.014732343381612067 h/Mpc\n",
      "k1 =  0.01664849952156331 h/Mpc\n",
      "k1 =  0.018813879716206055 h/Mpc\n",
      "k1 =  0.02126089918898783 h/Mpc\n",
      "k1 =  0.024026189235967825 h/Mpc\n",
      "k1 =  0.027151145587554885 h/Mpc\n",
      "k1 =  0.030682548092687816 h/Mpc\n",
      "k1 =  0.03467326100198194 h/Mpc\n",
      "k1 =  0.03918302433291305 h/Mpc\n",
      "k1 =  0.04427934816358626 h/Mpc\n",
      "k1 =  0.05003852324245348 h/Mpc\n",
      "k1 =  0.05654676304256521 h/Mpc\n",
      "k1 =  0.06390149435663557 h/Mpc\n",
      "k1 =  0.0722128157528199 h/Mpc\n",
      "k1 =  0.08160514572393904 h/Mpc\n",
      "k1 =  0.09221908520254977 h/Mpc\n",
      "k1 =  0.1042135223232664 h/Mpc\n",
      "k1 =  0.11776801094012236 h/Mpc\n",
      "k1 =  0.1330854585048062 h/Mpc\n",
      "k1 =  0.1503951635426688 h/Mpc\n",
      "k1 =  0.1699562481967872 h/Mpc\n",
      "k1 =  0.19206153722445293 h/Mpc\n",
      "k1 =  0.21704194151372888 h/Mpc\n",
      "k1 =  0.24527141174027503 h/Mpc\n",
      "k1 =  0.2771725363194938 h/Mpc\n",
      "k1 =  0.31322286745400635 h/Mpc\n",
      "k1 =  0.35396206997586965 h/Mpc\n",
      "k1 =  0.4 h/Mpc\n"
     ]
    }
   ],
   "source": [
    "ell1 = 2\n",
    "ell2 = 2\n",
    "ELL = 0\n",
    "cl.calc_B(\n",
    "        kbin, ell1, ell2, ELL,\n",
    "        alpha_perp=1, alpha_parallel=1, b1=2.2, b2=-.6, bG2=-.3, c1=0, c2=0, knl=.3,\n",
    "        Pshot=0, Bshot=0,\n",
    "        integrand='tree',\n",
    "        ks=.05,\n",
    "    )"
   ]
  },
  {
   "cell_type": "code",
   "execution_count": 13,
   "id": "4e072ff3",
   "metadata": {},
   "outputs": [
    {
     "data": {
      "text/plain": [
       "<ErrorbarContainer object of 3 artists>"
      ]
     },
     "execution_count": 13,
     "metadata": {},
     "output_type": "execute_result"
    },
    {
     "data": {
      "image/png": "[encoded data removed]",
      "text/plain": [
       "<Figure size 1080x720 with 1 Axes>"
      ]
     },
     "metadata": {
      "needs_background": "light"
     },
     "output_type": "display_data"
    }
   ],
   "source": [
    "plt.plot(np.diag(cl.BK['kbin1']),np.diag(cl.BK['kbin1'])**2*np.diag(cl.BK['K']))\n",
    "plt.errorbar(bk_meas220_real[:,0],bk_meas220_real[:,0]**2*bk_meas220_real[:,1],bk_meas220_real[:,0]**2*bk_meas220_real[:,2])"
   ]
  },
  {
   "cell_type": "code",
   "execution_count": 14,
   "id": "df42d4a9",
   "metadata": {},
   "outputs": [],
   "source": [
    "cl_rsd = ComputePowerBiSpectrum(params_cosmo, z)\n",
    "cl_rsd.initial_power_spectrum()"
   ]
  },
  {
   "cell_type": "code",
   "execution_count": null,
   "id": "2483d5f8",
   "metadata": {},
   "outputs": [
    {
     "name": "stdout",
     "output_type": "stream",
     "text": [
      "k1 =  0.001 h/Mpc\n",
      "k1 =  0.001130064585810758 h/Mpc\n",
      "k1 =  0.0012770459681036414 h/Mpc\n",
      "k1 =  0.00144314442300634 h/Mpc\n",
      "k1 =  0.0016308464046497666 h/Mpc\n",
      "k1 =  0.0018429617667915024 h/Mpc\n",
      "k1 =  0.002082665825654304 h/Mpc\n",
      "k1 =  0.0023535468936502517 h/Mpc\n",
      "k1 =  0.00265965999555907 h/Mpc\n",
      "k1 =  0.003005587571278903 h/Mpc\n",
      "k1 =  0.0033965080738552595 h/Mpc\n",
      "k1 =  0.0038382734896841393 h/Mpc\n",
      "k1 =  0.004337496941348324 h/Mpc\n",
      "k1 =  0.004901651684480223 h/Mpc\n",
      "k1 =  0.005539182980610753 h/Mpc\n",
      "k1 =  0.006259634520713891 h/Mpc\n",
      "k1 =  0.007073791291977273 h/Mpc\n",
      "k1 =  0.007993841026480045 h/Mpc\n"
     ]
    }
   ],
   "source": [
    "ell1 = 0\n",
    "ell2 = 0\n",
    "ELL = 0\n",
    "cl_rsd.calc_B(\n",
    "        kbin, ell1, ell2, ELL,\n",
    "        alpha_perp=1, alpha_parallel=1, b1=2.2, b2=-.6, bG2=-.3, c1=0, c2=0, knl=.3,\n",
    "        Pshot=0, Bshot=0,\n",
    "        integrand='tree',\n",
    "        ks=.05,\n",
    "    )"
   ]
  },
  {
   "cell_type": "code",
   "execution_count": null,
   "id": "158d3c75",
   "metadata": {},
   "outputs": [],
   "source": [
    "plt.plot(np.diag(cl_rsd.BK['kbin1']),np.diag(cl_rsd.BK['kbin1'])**2*np.diag(cl_rsd.BK['K']))\n",
    "plt.errorbar(bk_meas000_rsd[:,0],bk_meas000_rsd[:,0]**2*bk_meas000_rsd[:,1],bk_meas000_rsd[:,0]**2*bk_meas000_rsd[:,2])"
   ]
  },
  {
   "cell_type": "code",
   "execution_count": null,
   "id": "8f390b16",
   "metadata": {},
   "outputs": [],
   "source": [
    "ell1 = 1\n",
    "ell2 = 1\n",
    "ELL = 0\n",
    "cl_rsd.calc_B(\n",
    "        kbin, ell1, ell2, ELL,\n",
    "        alpha_perp=1, alpha_parallel=1, b1=2.2, b2=-.6, bG2=-.3, c1=0, c2=0, knl=.3,\n",
    "        Pshot=0, Bshot=0,\n",
    "        integrand='tree',\n",
    "        ks=.05,\n",
    "    )"
   ]
  },
  {
   "cell_type": "code",
   "execution_count": null,
   "id": "87fb272b",
   "metadata": {},
   "outputs": [],
   "source": [
    "plt.plot(np.diag(cl_rsd.BK['kbin1']),np.diag(cl_rsd.BK['kbin1'])**2*np.diag(cl_rsd.BK['K']))\n",
    "plt.errorbar(bk_meas110_rsd[:,0],bk_meas110_rsd[:,0]**2*bk_meas110_rsd[:,1],bk_meas110_rsd[:,0]**2*bk_meas110_rsd[:,2])"
   ]
  },
  {
   "cell_type": "code",
   "execution_count": null,
   "id": "4c0a46f6",
   "metadata": {},
   "outputs": [],
   "source": [
    "ell1 = 2\n",
    "ell2 = 2\n",
    "ELL = 0\n",
    "cl_rsd.calc_B(\n",
    "        kbin, ell1, ell2, ELL,\n",
    "        alpha_perp=1, alpha_parallel=1, b1=2.2, b2=-.6, bG2=-.3, c1=0, c2=0, knl=.3,\n",
    "        Pshot=0, Bshot=0,\n",
    "        integrand='tree',\n",
    "        ks=.05,\n",
    "    )"
   ]
  },
  {
   "cell_type": "code",
   "execution_count": null,
   "id": "c1a5bd8e",
   "metadata": {},
   "outputs": [],
   "source": [
    "plt.plot(np.diag(cl_rsd.BK['kbin1']),np.diag(cl_rsd.BK['kbin1'])**2*np.diag(cl_rsd.BK['K']))\n",
    "plt.errorbar(bk_meas220_rsd[:,0],bk_meas220_rsd[:,0]**2*bk_meas220_rsd[:,1],bk_meas220_rsd[:,0]**2*bk_meas220_rsd[:,2])"
   ]
  },
  {
   "cell_type": "code",
   "execution_count": null,
   "id": "54548f88",
   "metadata": {},
   "outputs": [],
   "source": [
    "ell1 = 2\n",
    "ell2 = 0\n",
    "ELL = 2\n",
    "cl_rsd.calc_B(\n",
    "        kbin, ell1, ell2, ELL,\n",
    "        alpha_perp=1, alpha_parallel=1, b1=2.2, b2=-.6, bG2=-.3, c1=0, c2=0, knl=.3,\n",
    "        Pshot=0, Bshot=0,\n",
    "        integrand='tree',\n",
    "        ks=.05,\n",
    "    )"
   ]
  },
  {
   "cell_type": "code",
   "execution_count": null,
   "id": "85285755",
   "metadata": {},
   "outputs": [],
   "source": [
    "plt.plot(np.diag(cl_rsd.BK['kbin1']),np.diag(cl_rsd.BK['kbin1'])**2*np.diag(cl_rsd.BK['K']))\n",
    "plt.errorbar(bk_meas202_rsd[:,0],bk_meas202_rsd[:,0]**2*bk_meas202_rsd[:,1],bk_meas202_rsd[:,0]**2*bk_meas202_rsd[:,2])"
   ]
  },
  {
   "cell_type": "code",
   "execution_count": null,
   "id": "4379f8e9",
   "metadata": {},
   "outputs": [],
   "source": [
    "ell1 = 1\n",
    "ell2 = 1\n",
    "ELL = 2\n",
    "cl_rsd.calc_B(\n",
    "        kbin, ell1, ell2, ELL,\n",
    "        alpha_perp=1, alpha_parallel=1, b1=2.2, b2=-.6, bG2=-.3, c1=0, c2=0, knl=.3,\n",
    "        Pshot=0, Bshot=0,\n",
    "        integrand='tree',\n",
    "        ks=.05,\n",
    "    )"
   ]
  },
  {
   "cell_type": "code",
   "execution_count": null,
   "id": "53a8448c",
   "metadata": {},
   "outputs": [],
   "source": [
    "plt.plot(np.diag(cl_rsd.BK['kbin1']),np.diag(cl_rsd.BK['kbin1'])**2*np.diag(cl_rsd.BK['K']))\n",
    "plt.errorbar(bk_meas112_rsd[:,0],bk_meas112_rsd[:,0]**2*bk_meas112_rsd[:,1],bk_meas112_rsd[:,0]**2*bk_meas112_rsd[:,2])"
   ]
  },
  {
   "cell_type": "code",
   "execution_count": null,
   "id": "59d16455",
   "metadata": {},
   "outputs": [],
   "source": []
  }
 ],
 "metadata": {
  "kernelspec": {
   "display_name": "Python (cpt)",
   "language": "python",
   "name": "cpt"
  },
  "language_info": {
   "codemirror_mode": {
    "name": "ipython",
    "version": 3
   },
   "file_extension": ".py",
   "mimetype": "text/x-python",
   "name": "python",
   "nbconvert_exporter": "python",
   "pygments_lexer": "ipython3",
   "version": "3.9.12"
  }
 },
 "nbformat": 4,
 "nbformat_minor": 5
}
