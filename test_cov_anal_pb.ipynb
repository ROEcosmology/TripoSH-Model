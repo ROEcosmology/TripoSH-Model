{
 "cells": [
  {
   "cell_type": "code",
   "execution_count": 1,
   "id": "03bf670a",
   "metadata": {},
   "outputs": [],
   "source": [
    "import os\n",
    "from classy import Class\n",
    "import numpy as np\n",
    "from matplotlib import pyplot as plt\n",
    "import initial\n",
    "from cov_PP import ClassCovariancePP\n",
    "from cov_BB_diag import ClassCovarianceBBDiag\n",
    "from cov_PB import ClassCovariancePB"
   ]
  },
  {
   "cell_type": "code",
   "execution_count": 2,
   "id": "c9d0e4c4",
   "metadata": {},
   "outputs": [],
   "source": [
    "plt.rcParams[\"figure.figsize\"] = [8.0,6.0]"
   ]
  },
  {
   "cell_type": "code",
   "execution_count": 3,
   "id": "5b4e7525",
   "metadata": {},
   "outputs": [
    {
     "name": "stdout",
     "output_type": "stream",
     "text": [
      "0.6359297950105864\n",
      "0.7580956209620838\n"
     ]
    }
   ],
   "source": [
    "h = .6777\n",
    "Omega_m = .307115\n",
    "omega_b = 0.048206*h**2\n",
    "sigma8_0 = .8288\n",
    "\n",
    "# CLASS cosmo\n",
    "params_cosmo = {\n",
    "    'output': 'tCl mPk',\n",
    "    'h': h,\n",
    "    'omega_b': omega_b,\n",
    "    'omega_cdm': Omega_m*h**2 - omega_b,\n",
    "    'sigma8':sigma8_0,\n",
    "    'n_s':.961,\n",
    "    'tau_reio': 0.0826026,\n",
    "    'N_ur': 2.,\n",
    "    'z_max_pk': 3.,\n",
    "    'P_k_max_h/Mpc': 50.,\n",
    "    }\n",
    "\n",
    "cosmo = Class()\n",
    "cosmo.set(params_cosmo)\n",
    "cosmo.compute()\n",
    "\n",
    "initial_cosmo = initial.InputPowerSpectrum(.51, cosmo, params_fid=params_cosmo)\n",
    "initial_cosmo.calcMatterPowerSpectrum()\n",
    "k_in, pk_in = initial_cosmo.getMatterPowerSpectrum()\n",
    "sigma8 = initial_cosmo.getSigma8z(sigma8_0)\n",
    "f_of_z = initial_cosmo.getGrowthRate()\n",
    "print(sigma8)\n",
    "print(f_of_z)\n",
    "params = {'sigma8':sigma8,'fz':f_of_z,'b1':2,'alpha_perp':1,\n",
    "          'alpha_parallel':1,'b2':0,'b3':0,'bK2':0,'bK3':0,'bDK':0,'bO':0,}\n",
    "kbin = np.arange(0.02, 0.22, .02)\n",
    "volume = 1.76e9\n",
    "nz = 3.26e-4\n",
    "dk = .02"
   ]
  },
  {
   "cell_type": "code",
   "execution_count": 4,
   "id": "841f19f2",
   "metadata": {},
   "outputs": [],
   "source": [
    "cov_PT_G = np.loadtxt(\"/home/rneveux/data/BOSS/Cov/RESULTS_COV_BOSS_North/RESULTS_COV_BOSS_North_ZBIN2/cov_pk0_bk000\", usecols=(2,)).reshape(10,10)"
   ]
  },
  {
   "cell_type": "code",
   "execution_count": 5,
   "id": "104d79e1",
   "metadata": {},
   "outputs": [
    {
     "name": "stdout",
     "output_type": "stream",
     "text": [
      "CPU times: user 96 µs, sys: 6 µs, total: 102 µs\n",
      "Wall time: 115 µs\n"
     ]
    }
   ],
   "source": [
    "%%time\n",
    "covpb = ClassCovariancePB()\n",
    "covpb.set_params(params)\n",
    "covpb.set_input_pk(k_in,pk_in)"
   ]
  },
  {
   "cell_type": "code",
   "execution_count": 6,
   "id": "d167e097",
   "metadata": {
    "scrolled": true
   },
   "outputs": [
    {
     "name": "stdout",
     "output_type": "stream",
     "text": [
      "k1 =  0.02 h/Mpc\n",
      "k1 =  0.04 h/Mpc\n",
      "k1 =  0.06 h/Mpc\n",
      "k1 =  0.08 h/Mpc\n",
      "k1 =  0.1 h/Mpc\n",
      "k1 =  0.12000000000000001 h/Mpc\n",
      "k1 =  0.13999999999999999 h/Mpc\n",
      "k1 =  0.16 h/Mpc\n",
      "k1 =  0.18 h/Mpc\n",
      "k1 =  0.19999999999999998 h/Mpc\n",
      "{'kbin1': array([[0.02, 0.02, 0.02, 0.02, 0.02, 0.02, 0.02, 0.02, 0.02, 0.02],\n",
      "       [0.04, 0.04, 0.04, 0.04, 0.04, 0.04, 0.04, 0.04, 0.04, 0.04],\n",
      "       [0.06, 0.06, 0.06, 0.06, 0.06, 0.06, 0.06, 0.06, 0.06, 0.06],\n",
      "       [0.08, 0.08, 0.08, 0.08, 0.08, 0.08, 0.08, 0.08, 0.08, 0.08],\n",
      "       [0.1 , 0.1 , 0.1 , 0.1 , 0.1 , 0.1 , 0.1 , 0.1 , 0.1 , 0.1 ],\n",
      "       [0.12, 0.12, 0.12, 0.12, 0.12, 0.12, 0.12, 0.12, 0.12, 0.12],\n",
      "       [0.14, 0.14, 0.14, 0.14, 0.14, 0.14, 0.14, 0.14, 0.14, 0.14],\n",
      "       [0.16, 0.16, 0.16, 0.16, 0.16, 0.16, 0.16, 0.16, 0.16, 0.16],\n",
      "       [0.18, 0.18, 0.18, 0.18, 0.18, 0.18, 0.18, 0.18, 0.18, 0.18],\n",
      "       [0.2 , 0.2 , 0.2 , 0.2 , 0.2 , 0.2 , 0.2 , 0.2 , 0.2 , 0.2 ]]), 'kbin2': array([[0.02, 0.04, 0.06, 0.08, 0.1 , 0.12, 0.14, 0.16, 0.18, 0.2 ],\n",
      "       [0.02, 0.04, 0.06, 0.08, 0.1 , 0.12, 0.14, 0.16, 0.18, 0.2 ],\n",
      "       [0.02, 0.04, 0.06, 0.08, 0.1 , 0.12, 0.14, 0.16, 0.18, 0.2 ],\n",
      "       [0.02, 0.04, 0.06, 0.08, 0.1 , 0.12, 0.14, 0.16, 0.18, 0.2 ],\n",
      "       [0.02, 0.04, 0.06, 0.08, 0.1 , 0.12, 0.14, 0.16, 0.18, 0.2 ],\n",
      "       [0.02, 0.04, 0.06, 0.08, 0.1 , 0.12, 0.14, 0.16, 0.18, 0.2 ],\n",
      "       [0.02, 0.04, 0.06, 0.08, 0.1 , 0.12, 0.14, 0.16, 0.18, 0.2 ],\n",
      "       [0.02, 0.04, 0.06, 0.08, 0.1 , 0.12, 0.14, 0.16, 0.18, 0.2 ],\n",
      "       [0.02, 0.04, 0.06, 0.08, 0.1 , 0.12, 0.14, 0.16, 0.18, 0.2 ],\n",
      "       [0.02, 0.04, 0.06, 0.08, 0.1 , 0.12, 0.14, 0.16, 0.18, 0.2 ]]), 'cov_PB': array([[6.80405839e+11, 1.89169397e+10, 6.22395125e+09, 2.56729682e+09,\n",
      "        1.10000835e+09, 6.85156052e+08, 3.95095671e+08, 2.24988504e+08,\n",
      "        1.55801262e+08, 1.02944695e+08],\n",
      "       [6.80405839e+11, 1.89169397e+10, 6.22395125e+09, 2.56729682e+09,\n",
      "        1.10000835e+09, 6.85156052e+08, 3.95095671e+08, 2.24988504e+08,\n",
      "        1.55801262e+08, 1.02944695e+08],\n",
      "       [6.80405839e+11, 1.89169397e+10, 6.22395125e+09, 2.56729682e+09,\n",
      "        1.10000835e+09, 6.85156052e+08, 3.95095671e+08, 2.24988504e+08,\n",
      "        1.55801262e+08, 1.02944695e+08],\n",
      "       [6.80405839e+11, 1.89169397e+10, 6.22395125e+09, 2.56729682e+09,\n",
      "        1.10000835e+09, 6.85156052e+08, 3.95095671e+08, 2.24988504e+08,\n",
      "        1.55801262e+08, 1.02944695e+08],\n",
      "       [6.80405839e+11, 1.89169397e+10, 6.22395125e+09, 2.56729682e+09,\n",
      "        1.10000835e+09, 6.85156052e+08, 3.95095671e+08, 2.24988504e+08,\n",
      "        1.55801262e+08, 1.02944695e+08],\n",
      "       [6.80405839e+11, 1.89169397e+10, 6.22395125e+09, 2.56729682e+09,\n",
      "        1.10000835e+09, 6.85156052e+08, 3.95095671e+08, 2.24988504e+08,\n",
      "        1.55801262e+08, 1.02944695e+08],\n",
      "       [6.80405839e+11, 1.89169397e+10, 6.22395125e+09, 2.56729682e+09,\n",
      "        1.10000835e+09, 6.85156052e+08, 3.95095671e+08, 2.24988504e+08,\n",
      "        1.55801262e+08, 1.02944695e+08],\n",
      "       [6.80405839e+11, 1.89169397e+10, 6.22395125e+09, 2.56729682e+09,\n",
      "        1.10000835e+09, 6.85156052e+08, 3.95095671e+08, 2.24988504e+08,\n",
      "        1.55801262e+08, 1.02944695e+08],\n",
      "       [6.80405839e+11, 1.89169397e+10, 6.22395125e+09, 2.56729682e+09,\n",
      "        1.10000835e+09, 6.85156052e+08, 3.95095671e+08, 2.24988504e+08,\n",
      "        1.55801262e+08, 1.02944695e+08],\n",
      "       [6.80405839e+11, 1.89169397e+10, 6.22395125e+09, 2.56729682e+09,\n",
      "        1.10000835e+09, 6.85156052e+08, 3.95095671e+08, 2.24988504e+08,\n",
      "        1.55801262e+08, 1.02944695e+08]]), 'ELL': 0, 'ell1_dash': 0, 'ell2_dash': 0, 'ELL_dash': 0}\n",
      "CPU times: user 6min 23s, sys: 196 ms, total: 6min 23s\n",
      "Wall time: 6min 28s\n"
     ]
    }
   ],
   "source": [
    "%%time\n",
    "cpb = covpb.calc_cov_PB( 'cov_PB_NG_PB_diag', kbin=kbin, volume = volume, \n",
    "                        nmean = nz, deltaK = dk, ELL= 0, ell1_dash= 0, ell2_dash= 0, ELL_dash= 0)"
   ]
  },
  {
   "cell_type": "code",
   "execution_count": 7,
   "id": "15f93451",
   "metadata": {},
   "outputs": [
    {
     "data": {
      "text/plain": [
       "<matplotlib.legend.Legend at 0x7f7a053b7790>"
      ]
     },
     "execution_count": 7,
     "metadata": {},
     "output_type": "execute_result"
    },
    {
     "data": {
      "image/png": "[encoded data removed]",
      "text/plain": [
       "<Figure size 576x432 with 1 Axes>"
      ]
     },
     "metadata": {
      "needs_background": "light"
     },
     "output_type": "display_data"
    }
   ],
   "source": [
    "plt.plot(cpb['kbin1'][:,0], cpb['kbin1'][:,0]**6*np.diag(cpb['cov_PB']), color='k', label=r\"PB\")\n",
    "plt.plot(kbin, kbin**6 * np.diag(cov_PT_G), label=r\"Naonori PB\", linestyle=':', color='k')\n",
    "plt.legend()"
   ]
  },
  {
   "cell_type": "code",
   "execution_count": null,
   "id": "a34ce69c",
   "metadata": {},
   "outputs": [],
   "source": []
  }
 ],
 "metadata": {
  "kernelspec": {
   "display_name": "Python 3 (ipykernel)",
   "language": "python",
   "name": "python3"
  },
  "language_info": {
   "codemirror_mode": {
    "name": "ipython",
    "version": 3
   },
   "file_extension": ".py",
   "mimetype": "text/x-python",
   "name": "python",
   "nbconvert_exporter": "python",
   "pygments_lexer": "ipython3",
   "version": "3.9.13"
  }
 },
 "nbformat": 4,
 "nbformat_minor": 5
}
